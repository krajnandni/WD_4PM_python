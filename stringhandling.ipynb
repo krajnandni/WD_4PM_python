{
 "cells": [
  {
   "cell_type": "code",
   "execution_count": 4,
   "metadata": {},
   "outputs": [
    {
     "name": "stdout",
     "output_type": "stream",
     "text": [
      "('hello', 3)\n",
      "hiihello\n",
      "True\n",
      "False\n",
      "False\n",
      "False\n",
      "False\n",
      "\n",
      "\n",
      "True\n"
     ]
    }
   ],
   "source": [
    "# using operation::\n",
    "\n",
    "print((\"hello\",3))   # repeat\n",
    "print(\"hii\"+\"hello\")   # conctate\n",
    "print(\"hello\"==\"hello\")   #true\n",
    "print(\"hello\"==\"Hello\")   # false\n",
    "print(\"hii\">\"hii\")      #true\n",
    "print(\"hello\">\"hii\")      #false\n",
    "print(\"sanjay\"<\"rani\")    # false\n",
    "print(\"hello\"*0)     # empty string\n",
    "print(\"hello\"*-3)     # empty string\n",
    "print(\"bharat\">\"Bharat\")   # true\n",
    "print(ord('a'))    #  return ordinal value of given char\n",
    "print(ord('A'))    #  return ordinal value of given char\n",
    "print(\"\\t\">\"\\n\")   # false\n",
    "print(ord('+')) "
   ]
  },
  {
   "cell_type": "code",
   "execution_count": null,
   "metadata": {},
   "outputs": [],
   "source": [
    "# membership/search operators\n",
    "print(\"b\" in \"bharat\")   #false\n",
    "print(\"an\" in \"sanjay\")   # true"
   ]
  },
  {
   "cell_type": "code",
   "execution_count": 6,
   "metadata": {},
   "outputs": [
    {
     "name": "stdout",
     "output_type": "stream",
     "text": [
      "97\n",
      "65\n",
      "False\n",
      "43\n",
      "d\n",
      "N\n"
     ]
    }
   ],
   "source": [
    "#  using functions:\n",
    "\n",
    "print(ord('a'))    #  return ordinal value of given char\n",
    "print(ord('A'))    #  return ordinal value of given char\n",
    "print(\"\\t\">\"\\n\")   # false\n",
    "print(ord('+')) \n",
    "print(chr(100))\n",
    "print(chr(78))"
   ]
  },
  {
   "cell_type": "code",
   "execution_count": 7,
   "metadata": {},
   "outputs": [
    {
     "name": "stdout",
     "output_type": "stream",
     "text": [
      "(\n",
      ")\n",
      "*\n",
      "+\n",
      ",\n",
      "-\n",
      ".\n",
      "/\n",
      "0\n",
      "1\n",
      "2\n",
      "3\n",
      "4\n",
      "5\n",
      "6\n",
      "7\n",
      "8\n",
      "9\n",
      ":\n",
      ";\n",
      "<\n"
     ]
    }
   ],
   "source": [
    "# print chars of 40-60 ordinal values\n",
    "\n",
    "for i in range(40,61):\n",
    "    print(chr(i))\n"
   ]
  },
  {
   "cell_type": "code",
   "execution_count": 8,
   "metadata": {},
   "outputs": [
    {
     "name": "stdout",
     "output_type": "stream",
     "text": [
      "20\n",
      "h\n",
      "y\n"
     ]
    }
   ],
   "source": [
    "print(len(\"python is a language\"))\n",
    "print(min(\"python\"))\n",
    "print(max(\"python\"))\n"
   ]
  },
  {
   "cell_type": "code",
   "execution_count": 10,
   "metadata": {},
   "outputs": [
    {
     "name": "stdout",
     "output_type": "stream",
     "text": [
      "a\n",
      "u\n"
     ]
    }
   ],
   "source": [
    "# wap to read string from user and find\n",
    "w= str(input(\"enter word\"))\n",
    "print(min(w))\n",
    "print(max(w))\n"
   ]
  },
  {
   "cell_type": "code",
   "execution_count": 18,
   "metadata": {},
   "outputs": [
    {
     "name": "stdout",
     "output_type": "stream",
     "text": [
      "ramramramramram\n"
     ]
    }
   ],
   "source": [
    "# wap to read string from user and reapeat it n times\n",
    "\n",
    "n=int(input(\"enter number\"))\n",
    "r=input(\"enter string\")\n",
    "print(r*n)"
   ]
  },
  {
   "cell_type": "code",
   "execution_count": null,
   "metadata": {},
   "outputs": [],
   "source": []
  },
  {
   "cell_type": "code",
   "execution_count": 12,
   "metadata": {},
   "outputs": [
    {
     "name": "stdout",
     "output_type": "stream",
     "text": [
      "valid number\n"
     ]
    }
   ],
   "source": [
    "# wap to read username $ password from user and password is india else print \n",
    "# invalid number\n",
    "\n",
    "username=str(input(\"name\"))\n",
    "password=str(input(\"enter name\"))\n",
    "if username==\"bharat\" and password==\"india\":\n",
    "    print(\"valid number\")\n",
    "else:\n",
    "    print(\"invalid number\")"
   ]
  },
  {
   "cell_type": "code",
   "execution_count": 19,
   "metadata": {},
   "outputs": [
    {
     "data": {
      "text/plain": [
       "'ABC'"
      ]
     },
     "execution_count": 19,
     "metadata": {},
     "output_type": "execute_result"
    }
   ],
   "source": [
    "\n",
    "# using mathods(type specific function)\n",
    "# syntex\n",
    "#strvar.method()\n",
    "#strvalue.method()\n",
    "\n",
    "#upper()---> return a new string of upercase chars\n",
    "s1=\"abc\"\n",
    "s2=\"pqr\"\n",
    "\n",
    "s1.upper()"
   ]
  },
  {
   "cell_type": "code",
   "execution_count": 20,
   "metadata": {},
   "outputs": [
    {
     "data": {
      "text/plain": [
       "'abc'"
      ]
     },
     "execution_count": 20,
     "metadata": {},
     "output_type": "execute_result"
    }
   ],
   "source": [
    "s1.lower()"
   ]
  },
  {
   "cell_type": "code",
   "execution_count": 22,
   "metadata": {},
   "outputs": [
    {
     "name": "stdout",
     "output_type": "stream",
     "text": [
      "ABC\n"
     ]
    }
   ],
   "source": [
    "s3=s1.upper()\n",
    "print(s3)"
   ]
  },
  {
   "cell_type": "code",
   "execution_count": null,
   "metadata": {},
   "outputs": [],
   "source": []
  }
 ],
 "metadata": {
  "kernelspec": {
   "display_name": "Python 3",
   "language": "python",
   "name": "python3"
  },
  "language_info": {
   "codemirror_mode": {
    "name": "ipython",
    "version": 3
   },
   "file_extension": ".py",
   "mimetype": "text/x-python",
   "name": "python",
   "nbconvert_exporter": "python",
   "pygments_lexer": "ipython3",
   "version": "3.11.4"
  },
  "orig_nbformat": 4
 },
 "nbformat": 4,
 "nbformat_minor": 2
}
