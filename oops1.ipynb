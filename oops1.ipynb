{
 "cells": [
  {
   "cell_type": "code",
   "execution_count": null,
   "metadata": {},
   "outputs": [],
   "source": [
    "# Object orinted programming structure(oops)\n",
    "\n",
    "# it is a technique that simplify automation of real world applications.\n",
    "#There are following concepts in oops:\n",
    "\n",
    "# object\n",
    "# class\n",
    "# Inheritance\n",
    "# polimorphishm\n",
    "# encapsulation\n",
    "# abstraction\n",
    "# etc\n",
    "\n",
    "# there are following languages that implement above concepts\n",
    "  # simula\n",
    "  # smalltalk\n",
    "  # c++\n",
    "  # python\n",
    "  # java\n",
    "  # c#\n",
    "  # kotlin \n",
    "  # etc.\n",
    "\n",
    "### Object\n",
    "\n",
    "# any real world(physical/logical) having properties(data members)\n",
    "# and behaviours(operations)\n",
    "\n",
    "# Ex:-\n",
    "    \n",
    "  # bank account as object\n",
    "    \n",
    "    # properties---> account,bank, type, etc.\n",
    "    # behaviours---> checkbalance,deposit,withdraw,etc.\n",
    "\n",
    "  # human as object:\n",
    "\n",
    "    # properties---> name,dob,gender,height,etc.\n",
    "    #behaviours---> thinkng,eating,sleeping,etc.\n",
    "\n",
    "# in memory,object is represented by dynmic memory allocation(i.e,size of \n",
    "# object is not standard)\n",
    "\n",
    "# in coding,object is an instance(existance) of a class. \n",
    "\n",
    "\n",
    "### class \n",
    "\n",
    "# a clas is a blueprint/drawing/design/template for \n",
    "# creating similar instances.\n",
    "\n",
    "\n"
   ]
  },
  {
   "cell_type": "code",
   "execution_count": null,
   "metadata": {},
   "outputs": [],
   "source": [
    "# a class represent a datatype.\n",
    "#  examples-->   "
   ]
  },
  {
   "cell_type": "code",
   "execution_count": 2,
   "metadata": {},
   "outputs": [
    {
     "name": "stdout",
     "output_type": "stream",
     "text": [
      "{10} <class 'set'>\n"
     ]
    }
   ],
   "source": [
    "x={10}            \n",
    "print(x,type(x))"
   ]
  },
  {
   "cell_type": "code",
   "execution_count": 4,
   "metadata": {},
   "outputs": [
    {
     "name": "stdout",
     "output_type": "stream",
     "text": [
      "<class 'int'> 28\n"
     ]
    }
   ],
   "source": [
    "import sys\n",
    "x=10\n",
    "print(type(x),sys.getsizeof(x))"
   ]
  },
  {
   "cell_type": "code",
   "execution_count": 5,
   "metadata": {},
   "outputs": [
    {
     "name": "stdout",
     "output_type": "stream",
     "text": [
      "<class 'int'> 32\n"
     ]
    }
   ],
   "source": [
    "x=10535169412024735\n",
    "print(type(x),sys.getsizeof(x))"
   ]
  },
  {
   "cell_type": "code",
   "execution_count": 6,
   "metadata": {},
   "outputs": [
    {
     "name": "stdout",
     "output_type": "stream",
     "text": [
      "<class 'list'> 56\n"
     ]
    }
   ],
   "source": [
    "x=[]\n",
    "print(type(x),sys.getsizeof(x))"
   ]
  },
  {
   "cell_type": "code",
   "execution_count": null,
   "metadata": {},
   "outputs": [],
   "source": [
    "# Syntex to create python class:\n",
    "class classname:\n",
    "    statements\n",
    "\n",
    "#Syntex to create python object\n",
    "objectname=classname()"
   ]
  }
 ],
 "metadata": {
  "kernelspec": {
   "display_name": "Python 3",
   "language": "python",
   "name": "python3"
  },
  "language_info": {
   "codemirror_mode": {
    "name": "ipython",
    "version": 3
   },
   "file_extension": ".py",
   "mimetype": "text/x-python",
   "name": "python",
   "nbconvert_exporter": "python",
   "pygments_lexer": "ipython3",
   "version": "3.11.4"
  },
  "orig_nbformat": 4
 },
 "nbformat": 4,
 "nbformat_minor": 2
}
