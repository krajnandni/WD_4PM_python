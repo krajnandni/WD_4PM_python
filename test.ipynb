{
 "cells": [
  {
   "cell_type": "code",
   "execution_count": 1,
   "metadata": {},
   "outputs": [
    {
     "name": "stdout",
     "output_type": "stream",
     "text": [
      "1 odd number\n",
      "2 even number\n",
      "3 odd number\n",
      "4 even number\n",
      "5 odd number\n",
      "6 even number\n",
      "7 odd number\n",
      "8 even number\n",
      "9 odd number\n",
      "10 even number\n",
      "11 odd number\n",
      "12 even number\n",
      "13 odd number\n",
      "14 even number\n",
      "15 odd number\n",
      "16 even number\n",
      "17 odd number\n",
      "18 even number\n",
      "19 odd number\n",
      "20 even number\n",
      "21 odd number\n",
      "22 even number\n",
      "23 odd number\n",
      "24 even number\n",
      "25 odd number\n",
      "26 even number\n",
      "27 odd number\n",
      "28 even number\n",
      "29 odd number\n",
      "30 even number\n",
      "31 odd number\n",
      "32 even number\n",
      "33 odd number\n",
      "34 even number\n",
      "35 odd number\n",
      "36 even number\n",
      "37 odd number\n",
      "38 even number\n",
      "39 odd number\n",
      "40 even number\n",
      "41 odd number\n",
      "42 even number\n",
      "43 odd number\n",
      "44 even number\n",
      "45 odd number\n",
      "46 even number\n",
      "47 odd number\n",
      "48 even number\n",
      "49 odd number\n",
      "50 even number\n",
      "51 odd number\n",
      "52 even number\n",
      "53 odd number\n",
      "54 even number\n",
      "55 odd number\n",
      "56 even number\n",
      "57 odd number\n",
      "58 even number\n",
      "59 odd number\n",
      "60 even number\n",
      "61 odd number\n",
      "62 even number\n",
      "63 odd number\n",
      "64 even number\n",
      "65 odd number\n",
      "66 even number\n",
      "67 odd number\n",
      "68 even number\n",
      "69 odd number\n",
      "70 even number\n",
      "71 odd number\n",
      "72 even number\n",
      "73 odd number\n",
      "74 even number\n",
      "75 odd number\n",
      "76 even number\n",
      "77 odd number\n",
      "78 even number\n",
      "79 odd number\n",
      "80 even number\n",
      "81 odd number\n",
      "82 even number\n",
      "83 odd number\n",
      "84 even number\n",
      "85 odd number\n",
      "86 even number\n",
      "87 odd number\n",
      "88 even number\n",
      "89 odd number\n",
      "90 even number\n",
      "91 odd number\n",
      "92 even number\n",
      "93 odd number\n",
      "94 even number\n",
      "95 odd number\n",
      "96 even number\n",
      "97 odd number\n",
      "98 even number\n",
      "99 odd number\n",
      "100 even number\n"
     ]
    }
   ],
   "source": [
    "# wap to print all even and odd numbers between 1 and 100.\n",
    "\n",
    "for i in range(1,101):\n",
    "    if i%2==0:\n",
    "        print(i,\"even number\")\n",
    "    else:\n",
    "        print(i,\"odd number\")"
   ]
  },
  {
   "cell_type": "code",
   "execution_count": 11,
   "metadata": {},
   "outputs": [
    {
     "name": "stdout",
     "output_type": "stream",
     "text": [
      "100  is even number\n",
      "99  is odd number\n",
      "98  is even number\n",
      "97  is odd number\n",
      "96  is even number\n",
      "95  is odd number\n",
      "94  is even number\n",
      "93  is odd number\n",
      "92  is even number\n",
      "91  is odd number\n",
      "90  is even number\n",
      "89  is odd number\n",
      "88  is even number\n",
      "87  is odd number\n",
      "86  is even number\n",
      "85  is odd number\n",
      "84  is even number\n",
      "83  is odd number\n",
      "82  is even number\n",
      "81  is odd number\n",
      "80  is even number\n",
      "79  is odd number\n",
      "78  is even number\n",
      "77  is odd number\n",
      "76  is even number\n",
      "75  is odd number\n",
      "74  is even number\n",
      "73  is odd number\n",
      "72  is even number\n",
      "71  is odd number\n",
      "70  is even number\n",
      "69  is odd number\n",
      "68  is even number\n",
      "67  is odd number\n",
      "66  is even number\n",
      "65  is odd number\n",
      "64  is even number\n",
      "63  is odd number\n",
      "62  is even number\n",
      "61  is odd number\n",
      "60  is even number\n",
      "59  is odd number\n",
      "58  is even number\n",
      "57  is odd number\n",
      "56  is even number\n",
      "55  is odd number\n",
      "54  is even number\n",
      "53  is odd number\n",
      "52  is even number\n",
      "51  is odd number\n",
      "50  is even number\n",
      "49  is odd number\n",
      "48  is even number\n",
      "47  is odd number\n",
      "46  is even number\n",
      "45  is odd number\n",
      "44  is even number\n",
      "43  is odd number\n",
      "42  is even number\n",
      "41  is odd number\n",
      "40  is even number\n",
      "39  is odd number\n",
      "38  is even number\n",
      "37  is odd number\n",
      "36  is even number\n",
      "35  is odd number\n",
      "34  is even number\n",
      "33  is odd number\n",
      "32  is even number\n",
      "31  is odd number\n",
      "30  is even number\n",
      "29  is odd number\n",
      "28  is even number\n",
      "27  is odd number\n",
      "26  is even number\n",
      "25  is odd number\n",
      "24  is even number\n",
      "23  is odd number\n",
      "22  is even number\n",
      "21  is odd number\n",
      "20  is even number\n",
      "19  is odd number\n",
      "18  is even number\n",
      "17  is odd number\n",
      "16  is even number\n",
      "15  is odd number\n",
      "14  is even number\n",
      "13  is odd number\n",
      "12  is even number\n",
      "11  is odd number\n",
      "10  is even number\n",
      "9  is odd number\n",
      "8  is even number\n",
      "7  is odd number\n",
      "6  is even number\n",
      "5  is odd number\n",
      "4  is even number\n",
      "3  is odd number\n",
      "2  is even number\n",
      "1  is odd number\n"
     ]
    }
   ],
   "source": [
    "# wap to print all even and odd numbers between 100 and 1.\n",
    "\n",
    "for i in range(100,0,-1):\n",
    "    if i%2==0:\n",
    "        print(i,\" is even number\")\n",
    "    else:\n",
    "        print(i,\" is odd number\")"
   ]
  },
  {
   "cell_type": "code",
   "execution_count": 12,
   "metadata": {},
   "outputs": [
    {
     "name": "stdout",
     "output_type": "stream",
     "text": [
      "5050\n"
     ]
    }
   ],
   "source": [
    "# wap to print sum of numbers from 1 and 100.\n",
    "sum=0\n",
    "for i in range(1,101):\n",
    "    sum=sum+i\n",
    "print(sum)\n",
    "    "
   ]
  },
  {
   "cell_type": "code",
   "execution_count": 1,
   "metadata": {},
   "outputs": [
    {
     "name": "stdout",
     "output_type": "stream",
     "text": [
      "385\n"
     ]
    }
   ],
   "source": [
    "# wap to print summof the followingseries:+++....;\n",
    "s=0\n",
    "for i in range(1,11):\n",
    "    s=s+(i**2)\n",
    "print(s)"
   ]
  },
  {
   "cell_type": "code",
   "execution_count": 28,
   "metadata": {},
   "outputs": [
    {
     "name": "stdout",
     "output_type": "stream",
     "text": [
      "1\n",
      "2\n",
      "6\n",
      "24\n",
      "120\n"
     ]
    }
   ],
   "source": [
    "# wap to print calculate the factorial of number entered through keyboard;\n",
    "fact=1\n",
    "num=int(input(\"enter num:\"))\n",
    "for i in range(1,num+1):\n",
    "    fact=fact*i\n",
    "    print(fact)\n"
   ]
  },
  {
   "cell_type": "code",
   "execution_count": 27,
   "metadata": {},
   "outputs": [
    {
     "name": "stdout",
     "output_type": "stream",
     "text": [
      "3 is prime\n"
     ]
    }
   ],
   "source": [
    "# wap to check prime number enterd through keyboard;\n",
    "n=int(input(\"enter num:\"))\n",
    "if n==2:\n",
    "    print(\"{} is prime number\".format(n))\n",
    "else:\n",
    "    for i in range(2,n+1):\n",
    "        if n%i==0:\n",
    "            print(f\"{n} is not prime number\")\n",
    "            break\n",
    "        else:\n",
    "            print(f\"{n} is prime\")\n",
    "            break\n"
   ]
  },
  {
   "cell_type": "code",
   "execution_count": 3,
   "metadata": {},
   "outputs": [],
   "source": [
    "# write a python program to get the fibonacci series between 0 to50;\n"
   ]
  },
  {
   "cell_type": "code",
   "execution_count": 17,
   "metadata": {},
   "outputs": [
    {
     "name": "stdout",
     "output_type": "stream",
     "text": [
      "cube of 1 is  1\n",
      "cube of 2 is  8\n",
      "cube of 3 is  27\n",
      "cube of 4 is  64\n",
      "cube of 5 is  125\n"
     ]
    }
   ],
   "source": [
    "# calculate the cube of all numbers from 1 to given number.\n",
    "\n",
    "n=int(input(\"enter num:\"))\n",
    "for i in range(1,n+1):\n",
    "    print(\"cube of {} is  {}\".format(i,i**3))"
   ]
  },
  {
   "cell_type": "code",
   "execution_count": 16,
   "metadata": {},
   "outputs": [
    {
     "name": "stdout",
     "output_type": "stream",
     "text": [
      "5\n"
     ]
    }
   ],
   "source": [
    "# write a program to count the total number of digits in a number for example,the number is 75869,so the output should ne 5.\n",
    "\n",
    "a=75869\n",
    "print(len(str(a)))"
   ]
  },
  {
   "cell_type": "code",
   "execution_count": null,
   "metadata": {},
   "outputs": [],
   "source": []
  }
 ],
 "metadata": {
  "kernelspec": {
   "display_name": "Python 3",
   "language": "python",
   "name": "python3"
  },
  "language_info": {
   "codemirror_mode": {
    "name": "ipython",
    "version": 3
   },
   "file_extension": ".py",
   "mimetype": "text/x-python",
   "name": "python",
   "nbconvert_exporter": "python",
   "pygments_lexer": "ipython3",
   "version": "3.11.4"
  },
  "orig_nbformat": 4
 },
 "nbformat": 4,
 "nbformat_minor": 2
}
