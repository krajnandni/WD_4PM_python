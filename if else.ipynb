{
 "cells": [
  {
   "cell_type": "code",
   "execution_count": 1,
   "metadata": {},
   "outputs": [
    {
     "name": "stdout",
     "output_type": "stream",
     "text": [
      "3rd div\n",
      "2nd div\n",
      "1st div\n"
     ]
    }
   ],
   "source": [
    "marks=float(input(\"enter marks:\"))\n",
    "if marks>=30:\n",
    "    print(\"3rd div\")\n",
    "if marks>=45:\n",
    "    print(\"2nd div\")\n",
    "if marks>=60:\n",
    "    print(\"1st div\")\n",
    "if marks<30:\n",
    "    print(\"fail\")"
   ]
  },
  {
   "cell_type": "code",
   "execution_count": 3,
   "metadata": {},
   "outputs": [
    {
     "name": "stdout",
     "output_type": "stream",
     "text": [
      "1st div\n"
     ]
    }
   ],
   "source": [
    "marks=float(input(\"enter marks:\"))\n",
    "if marks>=30 and marks<=45:\n",
    "    print(\"3rd div\")\n",
    "if marks>=45 and marks<=60:\n",
    "    print(\"2nd div\")\n",
    "if marks>=60:\n",
    "    print(\"1st div\")\n",
    "if marks<30:\n",
    "    print(\"fail\")"
   ]
  },
  {
   "cell_type": "markdown",
   "metadata": {},
   "source": []
  },
  {
   "cell_type": "code",
   "execution_count": 5,
   "metadata": {},
   "outputs": [
    {
     "name": "stdout",
     "output_type": "stream",
     "text": [
      "invalid marks\n"
     ]
    }
   ],
   "source": [
    "marks=float(input(\"enter marks:\"))\n",
    "if marks>=30 and marks<=45:\n",
    "    print(\"3rd div\")\n",
    "if marks>=45 and marks<=60:\n",
    "    print(\"2nd div\")\n",
    "if marks>=60 and marks<=100:\n",
    "    print(\"1st div\")\n",
    "if marks>100:\n",
    "    print(\"invalid marks\")\n",
    "if marks<30:\n",
    "    print(\"fail\")"
   ]
  },
  {
   "cell_type": "code",
   "execution_count": null,
   "metadata": {},
   "outputs": [],
   "source": []
  },
  {
   "cell_type": "code",
   "execution_count": 6,
   "metadata": {},
   "outputs": [
    {
     "name": "stdout",
     "output_type": "stream",
     "text": [
      "50 cash backadded\n",
      "total ammount\n"
     ]
    }
   ],
   "source": [
    "amt=int(input(\"enter amount\"))\n",
    "if amt>=1000:\n",
    "    amt=amt-50\n",
    "    print(\"50 cash backadded\")\n",
    "print(\"total ammount\")"
   ]
  },
  {
   "cell_type": "code",
   "execution_count": 10,
   "metadata": {},
   "outputs": [
    {
     "name": "stdout",
     "output_type": "stream",
     "text": [
      "50 cash back added\n"
     ]
    }
   ],
   "source": [
    "amt=int(input(\"enter amount\"))\n",
    "if amt>=1000:\n",
    "    amt=amt-50\n",
    "    print(\"50 cash back added\")\n",
    "    pc=input(\"enter promocode:\")\n",
    "    if pc==\"bharat\":\n",
    "        amt=amt-50\n",
    "        print(\"50cashback added for promocode\")\n",
    "    else:\n",
    "        print(\"invalid promocode\")\n",
    "print(\"final amount:\",amt)    "
   ]
  },
  {
   "cell_type": "code",
   "execution_count": 12,
   "metadata": {},
   "outputs": [
    {
     "name": "stdout",
     "output_type": "stream",
     "text": [
      "healthy\n"
     ]
    }
   ],
   "source": [
    "w=float(input(\"enter your weight in kg:\"))\n",
    "h=float(input(\"enter your height in cm:\"))\n",
    "bmi=w/(h/100)**2\n",
    "\n",
    "if bmi<18:\n",
    "    print(\"undereight\")\n",
    "if bmi>=18 and bmi<=25:\n",
    "    print(\"healthy\")\n",
    "if bmi>=25 and bmi<=30:\n",
    "    print(\"overweight\")\n",
    "if bmi>30:\n",
    "    print(\"obesity\")   "
   ]
  },
  {
   "cell_type": "code",
   "execution_count": 15,
   "metadata": {},
   "outputs": [
    {
     "name": "stdout",
     "output_type": "stream",
     "text": [
      "apple\n",
      "orange\n"
     ]
    }
   ],
   "source": [
    "# inline block\n",
    "# defining statements of block in same line\n",
    "if \"hi\":print(\"apple\");print(\"orange\")\n",
    "else:print(\"mango\")"
   ]
  },
  {
   "cell_type": "code",
   "execution_count": 18,
   "metadata": {},
   "outputs": [
    {
     "name": "stdout",
     "output_type": "stream",
     "text": [
      "fail\n",
      "sad\n",
      "thanku\n"
     ]
    }
   ],
   "source": [
    "marks=float(input(\"enter your marks\"))\n",
    "if marks>=30:print(\"pass\");print(\"happy\")\n",
    "else:print(\"fail\");print(\"sad\")\n",
    "print(\"thanku\")"
   ]
  },
  {
   "cell_type": "code",
   "execution_count": 19,
   "metadata": {},
   "outputs": [
    {
     "name": "stdout",
     "output_type": "stream",
     "text": [
      "fail\n",
      "sad\n",
      "thanku\n"
     ]
    }
   ],
   "source": [
    "# indented block\n",
    "marks=float(input(\"enter your marks\"))\n",
    "if marks>=30:\n",
    "    print(\"pass\");print(\"happy\")\n",
    "else:\n",
    "    print(\"fail\");print(\"sad\")\n",
    "print(\"thanku\")"
   ]
  },
  {
   "cell_type": "code",
   "execution_count": null,
   "metadata": {},
   "outputs": [],
   "source": [
    "# match condition"
   ]
  },
  {
   "cell_type": "code",
   "execution_count": 22,
   "metadata": {},
   "outputs": [
    {
     "name": "stdout",
     "output_type": "stream",
     "text": [
      "hindi\n",
      "thank you\n"
     ]
    }
   ],
   "source": [
    "option=1\n",
    "match option:\n",
    "    case 1:\n",
    "        print(\"hindi\")\n",
    "    case 2:\n",
    "        print(\"english\")\n",
    "print(\"thank you\")"
   ]
  },
  {
   "cell_type": "code",
   "execution_count": 24,
   "metadata": {},
   "outputs": [
    {
     "name": "stdout",
     "output_type": "stream",
     "text": [
      "invalid option\n",
      "thank you\n"
     ]
    }
   ],
   "source": [
    "option=5\n",
    "match option:\n",
    "    case 1:\n",
    "        print(\"hindi\")\n",
    "    case 2:\n",
    "        print(\"english\")\n",
    "    case dafault:\n",
    "        print(\"invalid option\")\n",
    "print(\"thank you\")"
   ]
  },
  {
   "cell_type": "code",
   "execution_count": 25,
   "metadata": {},
   "outputs": [
    {
     "name": "stdout",
     "output_type": "stream",
     "text": [
      "invalid option\n",
      "thank you\n"
     ]
    }
   ],
   "source": [
    "# note:- match,case,default are not keywordds and these are not considerd as\n",
    "# special words by interpreter.\n",
    "\n",
    "if option==1:\n",
    "    print(\"hindi\")\n",
    "elif option==2:\n",
    "    print(\"english\")\n",
    "else:\n",
    "    print(\"invalid option\")\n",
    "print(\"thank you\")"
   ]
  },
  {
   "cell_type": "code",
   "execution_count": 26,
   "metadata": {},
   "outputs": [
    {
     "name": "stdout",
     "output_type": "stream",
     "text": [
      "invalid option\n",
      "thank you\n"
     ]
    }
   ],
   "source": [
    "option=5\n",
    "match option:\n",
    "    case 1:\n",
    "        print(\"hindi\")\n",
    "    case 2:\n",
    "        print(\"english\")\n",
    "    case _:   # for dafault use_\n",
    "        print(\"invalid option\")\n",
    "print(\"thank you\")"
   ]
  },
  {
   "cell_type": "code",
   "execution_count": 27,
   "metadata": {},
   "outputs": [
    {
     "name": "stdout",
     "output_type": "stream",
     "text": [
      "invalid option\n",
      "thank you\n"
     ]
    }
   ],
   "source": [
    "option=5            \n",
    "match option:\n",
    "    case 1:            \n",
    "        print(\"hindi\")\n",
    "    case 1.5:\n",
    "        print(\"english\")    # apply all syntex\n",
    "    case _:   # for dafault use_\n",
    "        print(\"invalid option\")\n",
    "print(\"thank you\")"
   ]
  },
  {
   "cell_type": "code",
   "execution_count": 30,
   "metadata": {},
   "outputs": [
    {
     "name": "stdout",
     "output_type": "stream",
     "text": [
      "hindi\n",
      "thank you\n"
     ]
    }
   ],
   "source": [
    "option=1\n",
    "match option:\n",
    "    case 1:\n",
    "        print(\"hindi\")\n",
    "    case 2:\n",
    "        print(\"english\")\n",
    "    case 1:  \n",
    "        print(\"invalid option\")\n",
    "print(\"thank you\")"
   ]
  },
  {
   "cell_type": "code",
   "execution_count": 32,
   "metadata": {},
   "outputs": [
    {
     "name": "stdout",
     "output_type": "stream",
     "text": [
      "hindi\n",
      "thank you\n"
     ]
    }
   ],
   "source": [
    "option=1\n",
    "\n",
    "match option:\n",
    "    case 1:\n",
    "        print(\"hindi\")\n",
    "    case 2:\n",
    "        print(\"english\")\n",
    "    case 3:   \n",
    "        print(\"hindi\")\n",
    "print(\"thank you\")"
   ]
  },
  {
   "cell_type": "code",
   "execution_count": 34,
   "metadata": {},
   "outputs": [
    {
     "name": "stdout",
     "output_type": "stream",
     "text": [
      "hindi\n",
      "thank you\n"
     ]
    }
   ],
   "source": [
    "option=2\n",
    "match option:\n",
    "    case 1|2:\n",
    "        print(\"hindi\")\n",
    "    case 2|3:\n",
    "        print(\"english\")\n",
    "    \n",
    "print(\"thank you\")"
   ]
  },
  {
   "cell_type": "code",
   "execution_count": 39,
   "metadata": {},
   "outputs": [
    {
     "ename": "KeyboardInterrupt",
     "evalue": "Interrupted by user",
     "output_type": "error",
     "traceback": [
      "\u001b[1;31m---------------------------------------------------------------------------\u001b[0m",
      "\u001b[1;31mKeyboardInterrupt\u001b[0m                         Traceback (most recent call last)",
      "Cell \u001b[1;32mIn[39], line 1\u001b[0m\n\u001b[1;32m----> 1\u001b[0m a\u001b[39m=\u001b[39m\u001b[39mint\u001b[39m(\u001b[39minput\u001b[39;49m(\u001b[39m\"\u001b[39;49m\u001b[39menter a=\u001b[39;49m\u001b[39m\"\u001b[39;49m))\n\u001b[0;32m      2\u001b[0m a\u001b[39m=\u001b[39m\u001b[39mint\u001b[39m(\u001b[39minput\u001b[39m(\u001b[39m\"\u001b[39m\u001b[39menter b=\u001b[39m\u001b[39m\"\u001b[39m))\n\u001b[0;32m      3\u001b[0m choice\u001b[39m=\u001b[39m\u001b[39minput\u001b[39m(\u001b[39m\"\u001b[39m\u001b[39mfor addition \u001b[39m\u001b[39m\\n\u001b[39;00m\u001b[39m2 multiplication \u001b[39m\u001b[39m\\n\u001b[39;00m\u001b[39m3 division? \u001b[39m\u001b[39m\\n\u001b[39;00m\u001b[39m\"\u001b[39m)\n",
      "File \u001b[1;32m~\\AppData\\Roaming\\Python\\Python311\\site-packages\\ipykernel\\kernelbase.py:1202\u001b[0m, in \u001b[0;36mKernel.raw_input\u001b[1;34m(self, prompt)\u001b[0m\n\u001b[0;32m   1200\u001b[0m     msg \u001b[39m=\u001b[39m \u001b[39m\"\u001b[39m\u001b[39mraw_input was called, but this frontend does not support input requests.\u001b[39m\u001b[39m\"\u001b[39m\n\u001b[0;32m   1201\u001b[0m     \u001b[39mraise\u001b[39;00m StdinNotImplementedError(msg)\n\u001b[1;32m-> 1202\u001b[0m \u001b[39mreturn\u001b[39;00m \u001b[39mself\u001b[39;49m\u001b[39m.\u001b[39;49m_input_request(\n\u001b[0;32m   1203\u001b[0m     \u001b[39mstr\u001b[39;49m(prompt),\n\u001b[0;32m   1204\u001b[0m     \u001b[39mself\u001b[39;49m\u001b[39m.\u001b[39;49m_parent_ident[\u001b[39m\"\u001b[39;49m\u001b[39mshell\u001b[39;49m\u001b[39m\"\u001b[39;49m],\n\u001b[0;32m   1205\u001b[0m     \u001b[39mself\u001b[39;49m\u001b[39m.\u001b[39;49mget_parent(\u001b[39m\"\u001b[39;49m\u001b[39mshell\u001b[39;49m\u001b[39m\"\u001b[39;49m),\n\u001b[0;32m   1206\u001b[0m     password\u001b[39m=\u001b[39;49m\u001b[39mFalse\u001b[39;49;00m,\n\u001b[0;32m   1207\u001b[0m )\n",
      "File \u001b[1;32m~\\AppData\\Roaming\\Python\\Python311\\site-packages\\ipykernel\\kernelbase.py:1245\u001b[0m, in \u001b[0;36mKernel._input_request\u001b[1;34m(self, prompt, ident, parent, password)\u001b[0m\n\u001b[0;32m   1242\u001b[0m \u001b[39mexcept\u001b[39;00m \u001b[39mKeyboardInterrupt\u001b[39;00m:\n\u001b[0;32m   1243\u001b[0m     \u001b[39m# re-raise KeyboardInterrupt, to truncate traceback\u001b[39;00m\n\u001b[0;32m   1244\u001b[0m     msg \u001b[39m=\u001b[39m \u001b[39m\"\u001b[39m\u001b[39mInterrupted by user\u001b[39m\u001b[39m\"\u001b[39m\n\u001b[1;32m-> 1245\u001b[0m     \u001b[39mraise\u001b[39;00m \u001b[39mKeyboardInterrupt\u001b[39;00m(msg) \u001b[39mfrom\u001b[39;00m \u001b[39mNone\u001b[39;00m\n\u001b[0;32m   1246\u001b[0m \u001b[39mexcept\u001b[39;00m \u001b[39mException\u001b[39;00m:\n\u001b[0;32m   1247\u001b[0m     \u001b[39mself\u001b[39m\u001b[39m.\u001b[39mlog\u001b[39m.\u001b[39mwarning(\u001b[39m\"\u001b[39m\u001b[39mInvalid Message:\u001b[39m\u001b[39m\"\u001b[39m, exc_info\u001b[39m=\u001b[39m\u001b[39mTrue\u001b[39;00m)\n",
      "\u001b[1;31mKeyboardInterrupt\u001b[0m: Interrupted by user"
     ]
    }
   ],
   "source": [
    "a=int(input(\"enter a=\"))\n",
    "a=int(input(\"enter b=\"))\n",
    "choice=input(\"\"\" select an option\n",
    "1 addition\n",
    "2 multiplication\n",
    "3 divison?\"\"\")\n",
    "\n",
    "match choice:\n",
    "    case\"1\":\n",
    "        print(a+b)\n",
    "    case\"2\":\n",
    "        print(a*b)\n",
    "    case\"3\":\n",
    "        print(a/b)\n",
    "    case _:\n",
    "        print(\"invalid option\")\n",
    "\n"
   ]
  },
  {
   "cell_type": "code",
   "execution_count": 40,
   "metadata": {},
   "outputs": [],
   "source": [
    "a=int(input(\"enter a=\"))\n",
    "a=int(input(\"enter b=\"))\n",
    "choice=input(\"\"\" select an option\n",
    "1 addition\n",
    "2 multiplication\n",
    "3 divison?\"\"\")\n",
    "\n",
    "match choice:\n",
    "    case\"1\":\n",
    "        print(a+b)\n",
    "    case\"2\":\n",
    "        print(a*b)\n",
    "    case\"3\":\n",
    "        print(a/b)\n",
    "    case _:\n",
    "        print(\"invalid option\")\n",
    "\n"
   ]
  },
  {
   "cell_type": "code",
   "execution_count": 41,
   "metadata": {},
   "outputs": [
    {
     "name": "stdout",
     "output_type": "stream",
     "text": [
      "invalid option\n"
     ]
    }
   ],
   "source": [
    "# WAP to take a num from user then provide following option\n",
    "#  1 sqr\n",
    "#  2 cube\n",
    "# then perform opertion accordingly\n",
    "# if user input other than 1,2 then show invalid options\n",
    "\n",
    "a=int(input('enter the number'))\n",
    "choice=input(\"\"\"select an option\n",
    "1 sqr\n",
    "2 cube\"\"\")\n",
    "match choice:\n",
    "    case\"1\":\n",
    "        print(\"a**2\")\n",
    "    case\"2\":\n",
    "        print(\"a**3\")\n",
    "    case _:\n",
    "        print(\"invalid option\")"
   ]
  },
  {
   "cell_type": "code",
   "execution_count": 42,
   "metadata": {},
   "outputs": [
    {
     "ename": "ValueError",
     "evalue": "invalid literal for int() with base 10: ''",
     "output_type": "error",
     "traceback": [
      "\u001b[1;31m---------------------------------------------------------------------------\u001b[0m",
      "\u001b[1;31mValueError\u001b[0m                                Traceback (most recent call last)",
      "Cell \u001b[1;32mIn[42], line 1\u001b[0m\n\u001b[1;32m----> 1\u001b[0m a\u001b[39m=\u001b[39m\u001b[39mint\u001b[39;49m(\u001b[39minput\u001b[39;49m(\u001b[39m'\u001b[39;49m\u001b[39menter the number\u001b[39;49m\u001b[39m'\u001b[39;49m))\n\u001b[0;32m      2\u001b[0m choice\u001b[39m=\u001b[39m\u001b[39minput\u001b[39m(\u001b[39m\"\"\"\u001b[39m\u001b[39mselect an option\u001b[39m\n\u001b[0;32m      3\u001b[0m \u001b[39m1 sqr\u001b[39m\n\u001b[0;32m      4\u001b[0m \u001b[39m2 cube\u001b[39m\n\u001b[0;32m      5\u001b[0m \u001b[39m\"\"\"\u001b[39m)\n\u001b[0;32m      6\u001b[0m \u001b[39mmatch\u001b[39;00m choice:\n",
      "\u001b[1;31mValueError\u001b[0m: invalid literal for int() with base 10: ''"
     ]
    }
   ],
   "source": [
    "\n",
    "a=int(input('enter the number'))\n",
    "choice=input(\"\"\"select an option\n",
    "1 sqr\n",
    "2 cube\n",
    "\"\"\")\n",
    "match choice:\n",
    "    case\"1\":\n",
    "        print(a**2)\n",
    "    case\"2\":\n",
    "        print(a**3)\n",
    "    case _:\n",
    "        print(\"invalid option\")"
   ]
  },
  {
   "cell_type": "code",
   "execution_count": 47,
   "metadata": {},
   "outputs": [
    {
     "name": "stdout",
     "output_type": "stream",
     "text": [
      "invalid option\n"
     ]
    }
   ],
   "source": [
    "a=int(input('enter the number'))\n",
    "choice=input(\"\"\"select an option\n",
    "1 sqr\n",
    "2 cube\n",
    "\"\"\")\n",
    "match choice:\n",
    "    case\"1\":\n",
    "        print(a**2)\n",
    "    case\"2\":\n",
    "        print(a**3)\n",
    "    case _:\n",
    "        print(\"invalid option\")"
   ]
  },
  {
   "cell_type": "code",
   "execution_count": null,
   "metadata": {},
   "outputs": [],
   "source": [
    "\n"
   ]
  }
 ],
 "metadata": {
  "kernelspec": {
   "display_name": "Python 3",
   "language": "python",
   "name": "python3"
  },
  "language_info": {
   "codemirror_mode": {
    "name": "ipython",
    "version": 3
   },
   "file_extension": ".py",
   "mimetype": "text/x-python",
   "name": "python",
   "nbconvert_exporter": "python",
   "pygments_lexer": "ipython3",
   "version": "3.11.4"
  },
  "orig_nbformat": 4
 },
 "nbformat": 4,
 "nbformat_minor": 2
}
