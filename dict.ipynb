{
 "cells": [
  {
   "cell_type": "code",
   "execution_count": 1,
   "metadata": {},
   "outputs": [
    {
     "name": "stdout",
     "output_type": "stream",
     "text": [
      "{'a': 'apple'}\n"
     ]
    }
   ],
   "source": [
    "d={}           # empty dict\n",
    "k=input(\"enter key:\")\n",
    "v=input(\"enter value:\")\n",
    "d[k]=v\n",
    "print(d)"
   ]
  },
  {
   "cell_type": "code",
   "execution_count": 4,
   "metadata": {},
   "outputs": [
    {
     "name": "stdout",
     "output_type": "stream",
     "text": [
      "{}\n"
     ]
    }
   ],
   "source": [
    "# wap to create dict with 3 key value pairs using input\n",
    "d={}\n",
    "for i in range(3):\n",
    "    k=input(\"enter key:\")\n",
    "    v=input(\"enter value:\")\n",
    "print(d)\n",
    "\n"
   ]
  },
  {
   "cell_type": "code",
   "execution_count": 6,
   "metadata": {},
   "outputs": [
    {
     "name": "stdout",
     "output_type": "stream",
     "text": [
      "{}\n",
      "{}\n"
     ]
    },
    {
     "ename": "ValueError",
     "evalue": "dictionary update sequence element #1 has length 1; 2 is required",
     "output_type": "error",
     "traceback": [
      "\u001b[1;31m---------------------------------------------------------------------------\u001b[0m",
      "\u001b[1;31mValueError\u001b[0m                                Traceback (most recent call last)",
      "\u001b[1;32md:\\W_D_4PM\\New folder\\dict.ipynb Cell 3\u001b[0m line \u001b[0;36m9\n\u001b[0;32m      <a href='vscode-notebook-cell:/d%3A/W_D_4PM/New%20folder/dict.ipynb#W2sZmlsZQ%3D%3D?line=5'>6</a>\u001b[0m d\u001b[39m=\u001b[39m{}\n\u001b[0;32m      <a href='vscode-notebook-cell:/d%3A/W_D_4PM/New%20folder/dict.ipynb#W2sZmlsZQ%3D%3D?line=6'>7</a>\u001b[0m \u001b[39mprint\u001b[39m(d)\n\u001b[1;32m----> <a href='vscode-notebook-cell:/d%3A/W_D_4PM/New%20folder/dict.ipynb#W2sZmlsZQ%3D%3D?line=8'>9</a>\u001b[0m d\u001b[39m=\u001b[39m\u001b[39mdict\u001b[39;49m([(\u001b[39m'\u001b[39;49m\u001b[39ma\u001b[39;49m\u001b[39m'\u001b[39;49m,\u001b[39m'\u001b[39;49m\u001b[39mapple\u001b[39;49m\u001b[39m'\u001b[39;49m),\u001b[39m'\u001b[39;49m\u001b[39mb\u001b[39;49m\u001b[39m'\u001b[39;49m,\u001b[39m'\u001b[39;49m\u001b[39mbat\u001b[39;49m\u001b[39m'\u001b[39;49m,\u001b[39m'\u001b[39;49m\u001b[39mc\u001b[39;49m\u001b[39m'\u001b[39;49m,\u001b[39m'\u001b[39;49m\u001b[39mcow\u001b[39;49m\u001b[39m'\u001b[39;49m])\n\u001b[0;32m     <a href='vscode-notebook-cell:/d%3A/W_D_4PM/New%20folder/dict.ipynb#W2sZmlsZQ%3D%3D?line=9'>10</a>\u001b[0m \u001b[39mprint\u001b[39m(d)\n",
      "\u001b[1;31mValueError\u001b[0m: dictionary update sequence element #1 has length 1; 2 is required"
     ]
    }
   ],
   "source": [
    "# creating dict using dict()\n",
    "\n",
    "d=dict()\n",
    "print(d)\n",
    "\n",
    "d={}\n",
    "print(d)\n",
    "\n",
    "d=dict([('a','apple'),'b','bat','c','cow'])\n",
    "print(d)"
   ]
  },
  {
   "cell_type": "code",
   "execution_count": 8,
   "metadata": {},
   "outputs": [],
   "source": [
    "# creating dict from 2 containers\n",
    "\n",
    "roll={1,2,3,4}\n",
    "name=['rohit','virat','prem','gilu']\n",
    "\n",
    "# hint----> use zip() with for loop\n",
    "# expected output:\n",
    "{1:'rohit',2:'virat',3:'prem',4:'gilu'}\n",
    "d={}\n",
    "for i,j in zip(roll,name):\n",
    "    d\n",
    "print(d)"
   ]
  },
  {
   "cell_type": "code",
   "execution_count": 1,
   "metadata": {},
   "outputs": [
    {
     "name": "stdout",
     "output_type": "stream",
     "text": [
      "{'a': 'apple', 'b': 'ball'}\n",
      "{'a': 'android', 'b': 'ball', 'i': 'iphone'}\n"
     ]
    }
   ],
   "source": [
    "d1={'a':'apple','b':'ball'}\n",
    "d2={'a':'android','i':'iphone'}\n",
    "print(d1)\n",
    "d1.update(d2)   # d2.update(d1)\n",
    "print(d1)"
   ]
  },
  {
   "cell_type": "code",
   "execution_count": 4,
   "metadata": {},
   "outputs": [
    {
     "name": "stdout",
     "output_type": "stream",
     "text": [
      "{'a': 'android', 'b': 'ball', 'i': 'iphone'}\n"
     ]
    }
   ],
   "source": [
    "# note----> update modifying first dictt according  to second\n",
    "# d1.update(d2) does not return from 2 dicts\n",
    "\n",
    "# wap to ceate a new dict from 2 dicts\n",
    "\n",
    "d1={'a':'apple','b':'ball'}\n",
    "d2={'a':'android','i':'iphone'}\n",
    "d3={}\n",
    "d3.update(d1)\n",
    "d3.update(d2)\n",
    "print(d3)"
   ]
  },
  {
   "cell_type": "code",
   "execution_count": 7,
   "metadata": {},
   "outputs": [
    {
     "name": "stdout",
     "output_type": "stream",
     "text": [
      "{1: 1, 2: 4, 3: 9, 4: 16}\n",
      "{'a': 2}\n"
     ]
    }
   ],
   "source": [
    "# dict comprehension\n",
    "# creating dict using expression and for loop in a single statments\n",
    "#var={key_exp_val_exp for}\n",
    "\n",
    "d={ i:i*i for i in range(1,5)}\n",
    "print(d)\n",
    "\n",
    "d={'a':i for i in range(3)}\n",
    "print(d)"
   ]
  },
  {
   "cell_type": "code",
   "execution_count": 11,
   "metadata": {},
   "outputs": [
    {
     "name": "stdout",
     "output_type": "stream",
     "text": [
      "b\n"
     ]
    }
   ],
   "source": [
    "d={'a':'apple','b':'ball','c':'cat'}\n",
    "# find value from ke\n",
    "\n",
    "# find value from value\n",
    "v='ball'\n",
    "for i in d:\n",
    "    if d[i]==v:\n",
    "        print(i)\n",
    "\n"
   ]
  },
  {
   "cell_type": "code",
   "execution_count": 16,
   "metadata": {},
   "outputs": [
    {
     "name": "stdout",
     "output_type": "stream",
     "text": [
      "['a']\n"
     ]
    }
   ],
   "source": [
    "d={'a':'apple','b':'ball','c':'cat','A':'Apple'}\n",
    "v='apple'\n",
    "x=[]\n",
    "for i in d:\n",
    "    if d[i]==v:\n",
    "        x.append(i)\n",
    "if(len(x)==0):\n",
    "    print(\"value not present\")\n",
    "else:\n",
    "     print(x)"
   ]
  },
  {
   "cell_type": "code",
   "execution_count": null,
   "metadata": {},
   "outputs": [],
   "source": []
  },
  {
   "cell_type": "code",
   "execution_count": null,
   "metadata": {},
   "outputs": [],
   "source": []
  }
 ],
 "metadata": {
  "kernelspec": {
   "display_name": "Python 3",
   "language": "python",
   "name": "python3"
  },
  "language_info": {
   "codemirror_mode": {
    "name": "ipython",
    "version": 3
   },
   "file_extension": ".py",
   "mimetype": "text/x-python",
   "name": "python",
   "nbconvert_exporter": "python",
   "pygments_lexer": "ipython3",
   "version": "3.11.4"
  },
  "orig_nbformat": 4
 },
 "nbformat": 4,
 "nbformat_minor": 2
}
