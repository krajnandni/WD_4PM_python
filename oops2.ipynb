{
 "cells": [
  {
   "cell_type": "code",
   "execution_count": 1,
   "metadata": {},
   "outputs": [
    {
     "name": "stdout",
     "output_type": "stream",
     "text": [
      "<__main__.account object at 0x0000013BAC7CC850>\n",
      "<__main__.account object at 0x0000013BAC7CC3D0>\n",
      "<__main__.emp object at 0x0000013BAC7CCA90>\n"
     ]
    }
   ],
   "source": [
    "class account:\n",
    "    pass\n",
    "\n",
    "class emp:\n",
    "    pass\n",
    "\n",
    "a1=account()\n",
    "a2=account()\n",
    "e1=emp()\n",
    "print(a1)\n",
    "print(a2)\n",
    "print(e1)"
   ]
  },
  {
   "cell_type": "code",
   "execution_count": null,
   "metadata": {},
   "outputs": [],
   "source": [
    "# geneal syntex to create veriable\n",
    "   refrence veriable=classname()"
   ]
  }
 ],
 "metadata": {
  "kernelspec": {
   "display_name": "Python 3",
   "language": "python",
   "name": "python3"
  },
  "language_info": {
   "codemirror_mode": {
    "name": "ipython",
    "version": 3
   },
   "file_extension": ".py",
   "mimetype": "text/x-python",
   "name": "python",
   "nbconvert_exporter": "python",
   "pygments_lexer": "ipython3",
   "version": "3.11.4"
  },
  "orig_nbformat": 4
 },
 "nbformat": 4,
 "nbformat_minor": 2
}
