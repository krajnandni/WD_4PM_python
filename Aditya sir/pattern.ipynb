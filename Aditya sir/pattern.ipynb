{
 "cells": [
  {
   "cell_type": "code",
   "execution_count": null,
   "metadata": {},
   "outputs": [],
   "source": [
    "# patterns:-\n",
    "\n",
    "# Python patterns encode programs in different shapes and formats to create recognized patterns.\n",
    "# key point about patterns.\n",
    "# 1. use nested loop.\n",
    "# 2. try to print horizantally (left to right).\n",
    "# 3. outer loops controls number of rows.\n",
    "# 4. nested  loops controls number of columns in each row.\n",
    "# 5. use one more nested loop if patterns contaions startng spaces.\n",
    "#   print (left to right) -----> 2   4   6\n",
    "#                    rows  ----> 3   6   9\n",
    "#                    rows  ----> 4   8   12\n",
    "#                                c   c    c"
   ]
  },
  {
   "cell_type": "code",
   "execution_count": null,
   "metadata": {},
   "outputs": [],
   "source": [
    "rows = 6\n",
    "for i in range(rows):\n",
    "    \n",
    "    for j in range(i):\n",
    "        \n",
    "        print(i, end=' ')\n",
    "    \n",
    "    print('')"
   ]
  },
  {
   "cell_type": "code",
   "execution_count": null,
   "metadata": {},
   "outputs": [],
   "source": [
    "rows = 5\n",
    "for i in range(1, rows + 1):\n",
    "    for j in range(1, i + 1):\n",
    "        print(j, end=' ')\n",
    "    print('')\n",
    " "
   ]
  },
  {
   "cell_type": "code",
   "execution_count": null,
   "metadata": {},
   "outputs": [],
   "source": [
    "# 2 4 6 \n",
    "# 3 6 9 \n",
    "# 4 8 12 \n",
    "for i in range(2,5):\n",
    "    for j in range(1,4):\n",
    "        print(i*j,end=\" \")\n",
    "    print()"
   ]
  },
  {
   "cell_type": "code",
   "execution_count": null,
   "metadata": {},
   "outputs": [],
   "source": [
    "#         1 \n",
    "#       2 \n",
    "#     3 \n",
    "#   4 \n",
    "# 5 \n",
    "\n",
    "for i in range (1,6):\n",
    "    for j in range (i,5):\n",
    "        print(\" \",end =\" \")\n",
    "    for k in range(i,i+1):\n",
    "        print(k,end=\" \")\n",
    "    print()"
   ]
  },
  {
   "cell_type": "code",
   "execution_count": null,
   "metadata": {},
   "outputs": [],
   "source": [
    "# 1 \n",
    "# 1 2 \n",
    "# 1 2 3 \n",
    "# 1 2 3 4 \n",
    "# 1 2 3 4 5 \n",
    "\n",
    "for i in range(1,7):\n",
    "    for j in range(1,i):\n",
    "        print(j,end=\" \")\n",
    "    print()"
   ]
  },
  {
   "cell_type": "code",
   "execution_count": null,
   "metadata": {},
   "outputs": [],
   "source": [
    "# 5 \n",
    "# 5 4 \n",
    "# 5 4 3 \n",
    "# 5 4 3 2 \n",
    "# 5 4 3 2 1 \n",
    "\n",
    "for i in range(5,0,-1):\n",
    "    for j in range(5,i-1,-1):\n",
    "        print(j,end=\" \")\n",
    "        \n",
    "    print()"
   ]
  },
  {
   "cell_type": "code",
   "execution_count": null,
   "metadata": {},
   "outputs": [],
   "source": [
    "# 1\n",
    "# 2 2\n",
    "# 3 3 3\n",
    "# 4 4 4 4\n",
    "# 5 5 5 5 5\n",
    "\n",
    "for i in range(1,6):     \n",
    "    for j in range(i):\n",
    "        print(i,end=\" \")\n",
    "    print()"
   ]
  },
  {
   "cell_type": "code",
   "execution_count": null,
   "metadata": {},
   "outputs": [],
   "source": [
    "# * \n",
    "# * * \n",
    "# * * * \n",
    "# * * * * \n",
    "# * * * * * \n",
    "\n",
    "for i in range(1,7):\n",
    "    for j in range(1,i):\n",
    "        print(\"*\",end=\" \")\n",
    "    print()\n",
    " "
   ]
  },
  {
   "cell_type": "code",
   "execution_count": null,
   "metadata": {},
   "outputs": [],
   "source": [
    "# A\n",
    "# A B\n",
    "# A B C D\n",
    "# A B C D E\n",
    "\n",
    "for i in range (1,6):\n",
    "    for j in range(i):\n",
    "        print((chr(65+j)),end=\" \")\n",
    "    print()"
   ]
  },
  {
   "cell_type": "code",
   "execution_count": null,
   "metadata": {},
   "outputs": [],
   "source": []
  },
  {
   "cell_type": "code",
   "execution_count": null,
   "metadata": {},
   "outputs": [],
   "source": [
    "# 1\n",
    "# 22\n",
    "# 333\n",
    "# 4444\n",
    "# 55555\n",
    "\n",
    "for i in range(1,6):      # 1,2,3,4,5\n",
    "    for j in range(i):    \n",
    "        print(i,end=\"\")\n",
    "    print()\n"
   ]
  },
  {
   "cell_type": "code",
   "execution_count": null,
   "metadata": {},
   "outputs": [],
   "source": [
    "# 1\n",
    "# 12\n",
    "# 123\n",
    "# 1234\n",
    "# 12345\n",
    "\n",
    "for i in range (1,6):\n",
    "    for j in range(1,i+1):\n",
    "        print(j,end=\"\")\n",
    "    print()"
   ]
  },
  {
   "cell_type": "code",
   "execution_count": null,
   "metadata": {},
   "outputs": [],
   "source": [
    "# 1\n",
    "# 2 3\n",
    "# 4 5 6\n",
    "# 7 8 9 10  \n",
    "# 11 12 13 14 15\n",
    "x=1\n",
    "for i  in range(1,6):\n",
    "    for j in range(1,1+i):\n",
    "        print(x,end=\" \")\n",
    "        x+=1\n",
    "    print()"
   ]
  },
  {
   "cell_type": "code",
   "execution_count": null,
   "metadata": {},
   "outputs": [],
   "source": [
    "# 1\n",
    "# 21\n",
    "# 321\n",
    "# 4321\n",
    "# 54321\n",
    "for i in range(1,6):\n",
    "    for j in range (i,0,-1):\n",
    "        print(j,end=\"\")\n",
    "    print()\n"
   ]
  },
  {
   "cell_type": "code",
   "execution_count": 5,
   "metadata": {},
   "outputs": [
    {
     "name": "stdout",
     "output_type": "stream",
     "text": [
      "5\n",
      "45\n",
      "345\n",
      "2345\n",
      "12345\n"
     ]
    }
   ],
   "source": [
    "# 5\n",
    "# 45\n",
    "# 345\n",
    "# 2345\n",
    "# 12345\n",
    "\n",
    "for i in range(5,0,-1):\n",
    "    for j in range(i,6):\n",
    "        print(j,end=\"\")\n",
    "    print()"
   ]
  },
  {
   "cell_type": "code",
   "execution_count": null,
   "metadata": {},
   "outputs": [],
   "source": [
    "# 1\n",
    "# 21\n",
    "# 321\n",
    "# 4321\n",
    "# 54321\n",
    "for i in range(1,6):\n",
    "    for j in range(i,0,-1):\n",
    "        print(j,end=\"\")\n",
    "    print()"
   ]
  },
  {
   "cell_type": "code",
   "execution_count": null,
   "metadata": {},
   "outputs": [],
   "source": [
    "#         1\n",
    "#       1 2\n",
    "#     1 2 3\n",
    "#   1 2 3 4\n",
    "# 1 2 3 4 5\n",
    "\n",
    "for i in range (1,6):           # 1,2,3,4,5\n",
    "    for j in range (i,5):       # 1,2,3,4 for space\n",
    "        print(\" \",end =\" \")\n",
    "    for k in range(1,i+1):      # 1,2,3,4,5 for digit\n",
    "        print(k,end=\" \")\n",
    "    print()\n"
   ]
  },
  {
   "cell_type": "code",
   "execution_count": null,
   "metadata": {},
   "outputs": [],
   "source": [
    "#     1\n",
    "#    12\n",
    "#   123\n",
    "#  1234\n",
    "# 12345\n",
    "\n",
    "for i in range(1,6):\n",
    "    for j in range(i,5):\n",
    "        print(\" \",end=\"\")\n",
    "    for k in range(1,i+1):\n",
    "        print(k,end=\"\")\n",
    "    print()"
   ]
  },
  {
   "cell_type": "code",
   "execution_count": 4,
   "metadata": {},
   "outputs": [
    {
     "name": "stdout",
     "output_type": "stream",
     "text": [
      "54321\n",
      "4321\n",
      "321\n",
      "21\n",
      "1\n"
     ]
    }
   ],
   "source": [
    "# 54321\n",
    "# 4321\n",
    "# 321\n",
    "# 21\n",
    "# 1\n",
    "\n",
    "for i in range(5,0,-1):     # 5,4,3,2,1\n",
    "    for j in range(i,0,-1):\n",
    "        print(j,end=\"\")\n",
    "    print()"
   ]
  },
  {
   "cell_type": "code",
   "execution_count": 3,
   "metadata": {},
   "outputs": [
    {
     "name": "stdout",
     "output_type": "stream",
     "text": [
      "1 2 3 4 5 \n",
      "2 3 4 5 \n",
      "3 4 5 \n",
      "4 5 \n",
      "5 \n"
     ]
    }
   ],
   "source": [
    "# 12345\n",
    "# 2345\n",
    "# 345\n",
    "# 45\n",
    "# 5\n",
    "for i in range (1,6):\n",
    "    for j in range(i,6):\n",
    "        print(j,end=\" \")\n",
    "    print()"
   ]
  },
  {
   "cell_type": "code",
   "execution_count": null,
   "metadata": {},
   "outputs": [],
   "source": [
    "# 12345\n",
    "#  1234\n",
    "#   123\n",
    "#    12\n",
    "#     1\n",
    "\n",
    "for i in range (5,0,-1):  #5,4,3,2,1\n",
    "    for j in range(0,5-i):     #for space\n",
    "        print(\" \",end=\"\") \n",
    "    for k in range(1,i+1):\n",
    "        print(k,end=\"\") \n",
    "    print()\n"
   ]
  },
  {
   "cell_type": "code",
   "execution_count": null,
   "metadata": {},
   "outputs": [],
   "source": [
    "# 54321\n",
    "#  4321\n",
    "#   321\n",
    "#    21\n",
    "#     1\n",
    "\n",
    "for i in range (5,0,-1):  #5,4,3,2,1\n",
    "    for j in range(0,5-i):     #for space\n",
    "        print(\" \",end=\"\") \n",
    "    for k in range(i,0,-1):\n",
    "        print(k,end=\"\") \n",
    "    print()\n"
   ]
  },
  {
   "cell_type": "code",
   "execution_count": null,
   "metadata": {},
   "outputs": [],
   "source": [
    "#          1\n",
    "#        1 2 1\n",
    "#      1 2 3 2 1\n",
    "#    1 2 3 4 3 2 1\n",
    "#  1 2 3 4 5 4 3 2 1\n",
    "#    1 2 3 4 3 2 1\n",
    "#      1 2 3 2 1\n",
    "#        1 2 1\n",
    "#          1\n",
    "\n",
    "for i in range (1,6):\n",
    "    for j in range(0,5-i):\n",
    "        print(\" \",end=\" \")\n",
    "    for j in range(1,i+1):\n",
    "        print(j,end=\" \")\n",
    "    for k in range(i-1,0,-1):\n",
    "        print(k,end=\" \")\n",
    "    print()\n",
    "for i in range (4,0,-1):\n",
    "    for j in range(0,5-i):\n",
    "        print(\" \",end=\" \")\n",
    "    for j in range(1,i+1):\n",
    "        print(j,end=\" \")\n",
    "    for k in range(i-1,0,-1):\n",
    "        print(k,end=\" \")\n",
    "    print()"
   ]
  },
  {
   "cell_type": "code",
   "execution_count": 36,
   "metadata": {},
   "outputs": [
    {
     "name": "stdout",
     "output_type": "stream",
     "text": [
      "        5 \n",
      "      5 4 5 \n",
      "    5 4 3 4 5 \n",
      "  5 4 3 2 3 4 5 \n",
      "5 4 3 2 1 2 3 4 5 \n",
      "  5 4 3 2 3 4 5 \n",
      "    5 4 3 4 5 \n",
      "      5 4 5 \n",
      "        5 \n"
     ]
    }
   ],
   "source": [
    "#           5 \n",
    "#         5 4 5 \n",
    "#       5 4 3 4 5 \n",
    "#     5 4 3 2 3 4 5 \n",
    "#   5 4 3 2 1 2 3 4 5 \n",
    "#     5 4 3 2 3 4 5 \n",
    "#       5 4 3 4 5 \n",
    "#         5 4 5 \n",
    "#           5 \n",
    "\n",
    "for i in range(1,6):\n",
    "    for j in range(5,i,-1):\n",
    "        print(\" \",end=\" \")\n",
    "    for k in range(5,6-i,-1):\n",
    "        print(k,end=\" \")\n",
    "    for l in range(6-i,6,1):\n",
    "        print(l,end=\" \")\n",
    "    print()\n",
    "    \n",
    "for i in range(1,5):\n",
    "    for j in range(1,i+1):\n",
    "        print(\" \",end=\" \")\n",
    "    for k in range(5,i,-1):\n",
    "        print(k,end=\" \")\n",
    "    for l in range(i+2,6):\n",
    "        print(l,end=\" \")\n",
    "    print()\n"
   ]
  },
  {
   "cell_type": "code",
   "execution_count": null,
   "metadata": {},
   "outputs": [],
   "source": [
    "    \n",
    "for i in range(1,6):\n",
    "    for j in range(0,i+1):\n",
    "        print(\" \",end=\" \")\n",
    "    for k in range(6-1,i,-1):\n",
    "        print(k,end=\" \")\n",
    "    for l in range(i+2,6):\n",
    "        print(l,end=\" \")\n",
    "    print()\n"
   ]
  },
  {
   "cell_type": "code",
   "execution_count": 12,
   "metadata": {},
   "outputs": [
    {
     "name": "stdout",
     "output_type": "stream",
     "text": [
      "        1 \n",
      "      1 2 \n",
      "    1 2 3 \n",
      "  1 2 3 4 \n",
      "1 2 3 4 5 \n"
     ]
    }
   ],
   "source": [
    "#     1\n",
    "#    12\n",
    "#   123\n",
    "#  1234\n",
    "# 12345\n",
    "\n",
    "for i in range(1,6):\n",
    "    for j in range(1,6-i):\n",
    "        print(\" \",end=\" \")\n",
    "    for k in range(1,i+1):\n",
    "        print(k,end=\" \")\n",
    "    print()"
   ]
  },
  {
   "cell_type": "code",
   "execution_count": null,
   "metadata": {},
   "outputs": [],
   "source": []
  }
 ],
 "metadata": {
  "kernelspec": {
   "display_name": "Python 3",
   "language": "python",
   "name": "python3"
  },
  "language_info": {
   "codemirror_mode": {
    "name": "ipython",
    "version": 3
   },
   "file_extension": ".py",
   "mimetype": "text/x-python",
   "name": "python",
   "nbconvert_exporter": "python",
   "pygments_lexer": "ipython3",
   "version": "3.11.3"
  },
  "orig_nbformat": 4
 },
 "nbformat": 4,
 "nbformat_minor": 2
}
