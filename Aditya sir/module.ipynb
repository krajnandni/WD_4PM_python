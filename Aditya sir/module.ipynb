{
 "cells": [
  {
   "cell_type": "code",
   "execution_count": null,
   "metadata": {},
   "outputs": [],
   "source": [
    "# module\n",
    "\n",
    "# module is a python progeam which to  imported other "
   ]
  },
  {
   "cell_type": "markdown",
   "metadata": {},
   "source": [
    "import p208\n",
    "print(p208.x)\n",
    "print(208.add (3,4))\n",
    "print(208.mul(3,4))"
   ]
  },
  {
   "cell_type": "code",
   "execution_count": null,
   "metadata": {},
   "outputs": [],
   "source": [
    "import p208 as m   # m is alias(assumed name)  for p208 in this program only\n",
    "print(m.add(2,3))\n",
    "print(m.mul(2,3))"
   ]
  },
  {
   "cell_type": "code",
   "execution_count": null,
   "metadata": {},
   "outputs": [],
   "source": [
    "from p208 import x\n",
    "from p208 import mul\n",
    "print(x)\n",
    "print(mul(2,3))"
   ]
  }
 ],
 "metadata": {
  "language_info": {
   "name": "python"
  },
  "orig_nbformat": 4
 },
 "nbformat": 4,
 "nbformat_minor": 2
}
