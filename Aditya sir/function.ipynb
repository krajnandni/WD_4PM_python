{
 "cells": [
  {
   "cell_type": "code",
   "execution_count": null,
   "metadata": {},
   "outputs": [],
   "source": [
    "# Function\n",
    "\n",
    "# a function is a named block that providesreusability of logic\n",
    "# in same or other program.\n",
    "\n",
    "# in python ,a function has 2 parts\n",
    "     # function defintion  --->  we write logic\n",
    "     # Function calling    --->  # we excute function\n",
    "\n",
    "# Syntex of function definition\n",
    "# def funname(parameter):\n",
    "    # logic\n",
    "\n",
    "\n",
    "# Syntex of function calling\n",
    "#   funname(argument)\n",
    "\n",
    "\n",
    "#     or\n",
    "\n",
    "# variable=funname(arguments)"
   ]
  },
  {
   "cell_type": "markdown",
   "metadata": {},
   "source": []
  },
  {
   "cell_type": "code",
   "execution_count": null,
   "metadata": {},
   "outputs": [
    {
     "name": "stdout",
     "output_type": "stream",
     "text": [
      "hello\n",
      "bye\n"
     ]
    }
   ],
   "source": [
    "print(\"hello\")\n",
    "\n",
    "def fruits():\n",
    "    print(\"mango\")\n",
    "    print(\"litchi\")\n",
    "def colors():\n",
    "    print(\"black\")\n",
    "    print(\"blue\")\n",
    "print(\"bye\")"
   ]
  },
  {
   "cell_type": "code",
   "execution_count": null,
   "metadata": {},
   "outputs": [
    {
     "name": "stdout",
     "output_type": "stream",
     "text": [
      "hello\n",
      "bye\n",
      "black\n",
      "blue\n",
      "mango\n",
      "litchi\n"
     ]
    }
   ],
   "source": [
    "print(\"hello\")\n",
    "\n",
    "def fruits():\n",
    "    print(\"mango\")\n",
    "    print(\"litchi\")\n",
    "\n",
    "def colors():\n",
    "    print(\"black\")\n",
    "    print(\"blue\")\n",
    "\n",
    "print(\"bye\")\n",
    "colors()\n",
    "fruits()"
   ]
  },
  {
   "cell_type": "code",
   "execution_count": null,
   "metadata": {},
   "outputs": [
    {
     "name": "stdout",
     "output_type": "stream",
     "text": [
      "hello\n",
      "0\n",
      "1\n",
      "2\n",
      "3\n",
      "4\n",
      "virat\n",
      "bye\n",
      "black\n",
      "blue\n",
      "mango\n",
      "litchi\n"
     ]
    }
   ],
   "source": [
    "print(\"hello\")\n",
    "\n",
    "for i in range(5):\n",
    "    print(i)\n",
    "if (5>7) :\n",
    "    print(\"sachin\")\n",
    "else:\n",
    "    print(\"virat\")\n",
    "def fruits():\n",
    "    print(\"mango\")\n",
    "    print(\"litchi\")\n",
    "\n",
    "def colors():\n",
    "    print(\"black\")\n",
    "    print(\"blue\")\n",
    "\n",
    "print(\"bye\")\n",
    "colors()\n",
    "fruits()"
   ]
  },
  {
   "cell_type": "code",
   "execution_count": 9,
   "metadata": {},
   "outputs": [
    {
     "name": "stdout",
     "output_type": "stream",
     "text": [
      "banana\n",
      "orange\n"
     ]
    }
   ],
   "source": [
    "def fruits():\n",
    "    print(\"mango\")\n",
    "    print(\"litchi\")\n",
    "\n",
    "def fruits():\n",
    "    print(\"banana\")\n",
    "    print(\"orange\")\n",
    "\n",
    "fruits()    \n"
   ]
  },
  {
   "cell_type": "code",
   "execution_count": 10,
   "metadata": {},
   "outputs": [
    {
     "name": "stdout",
     "output_type": "stream",
     "text": [
      "mango\n",
      "litchi\n",
      "banana\n",
      "orange\n"
     ]
    }
   ],
   "source": [
    "def fruits():\n",
    "    print(\"mango\")\n",
    "    print(\"litchi\")\n",
    "\n",
    "fruits()\n",
    "\n",
    "def fruits():\n",
    "    print(\"banana\")\n",
    "    print(\"orange\")\n",
    "\n",
    "fruits()    \n"
   ]
  },
  {
   "cell_type": "code",
   "execution_count": 11,
   "metadata": {},
   "outputs": [
    {
     "name": "stdout",
     "output_type": "stream",
     "text": [
      "20\n"
     ]
    }
   ],
   "source": [
    "def mul():\n",
    "    a=4\n",
    "    b=5\n",
    "    print(a*b)\n",
    "\n",
    "mul()"
   ]
  },
  {
   "cell_type": "code",
   "execution_count": 12,
   "metadata": {},
   "outputs": [
    {
     "name": "stdout",
     "output_type": "stream",
     "text": [
      "9\n"
     ]
    }
   ],
   "source": [
    "def add():\n",
    "    a=4\n",
    "    b=5\n",
    "    print(a+b)\n",
    "\n",
    "add()"
   ]
  },
  {
   "cell_type": "code",
   "execution_count": 13,
   "metadata": {},
   "outputs": [
    {
     "name": "stdout",
     "output_type": "stream",
     "text": [
      "20\n",
      "30\n",
      "72\n"
     ]
    }
   ],
   "source": [
    "def mul(a,b):\n",
    "    print(a*b)\n",
    "mul(4,5)\n",
    "mul(5,6)\n",
    "x=8\n",
    "y=9\n",
    "mul(x,y)"
   ]
  },
  {
   "cell_type": "code",
   "execution_count": null,
   "metadata": {},
   "outputs": [],
   "source": [
    "def mul(a,b):  #a and b parameters\n",
    "    print(a*b)\n",
    "\n",
    "mul(4,5) # 4,5 are arguments\n",
    "y=5\n",
    "mul (x,y)  # x,y are arguments\n"
   ]
  },
  {
   "cell_type": "code",
   "execution_count": 1,
   "metadata": {},
   "outputs": [
    {
     "name": "stdout",
     "output_type": "stream",
     "text": [
      "42\n",
      "13\n"
     ]
    }
   ],
   "source": [
    "a=4          # global scope\n",
    "b=5\n",
    "\n",
    "def mul():\n",
    "    global a,b\n",
    "    a=6            # local scope \n",
    "    b=7\n",
    "    print(a*b)\n",
    "\n",
    "mul()\n",
    "\n",
    "def add():\n",
    "    print(a+b)\n",
    "\n",
    "add()"
   ]
  },
  {
   "cell_type": "code",
   "execution_count": 2,
   "metadata": {},
   "outputs": [
    {
     "name": "stdout",
     "output_type": "stream",
     "text": [
      "42\n",
      "13\n"
     ]
    }
   ],
   "source": [
    "a=4\n",
    "b=5\n",
    "\n",
    "def mul():\n",
    "    global a,b\n",
    "    a=6 \n",
    "    b=7\n",
    "    print(a*b)\n",
    "\n",
    "mul()\n",
    "\n",
    "def add():\n",
    "    print(a+b)\n",
    "\n",
    "add()"
   ]
  },
  {
   "cell_type": "code",
   "execution_count": null,
   "metadata": {},
   "outputs": [],
   "source": [
    "a=4\n",
    "b=5\n",
    "\n",
    "def mul():\n",
    "   # global a,b\n",
    "    a=6 \n",
    "    b=7\n",
    "    print(a*b)\n",
    "\n",
    "mul()\n",
    "\n",
    "def add():\n",
    "    print(a+b)\n",
    "\n",
    "add()"
   ]
  },
  {
   "cell_type": "code",
   "execution_count": 14,
   "metadata": {},
   "outputs": [
    {
     "name": "stdout",
     "output_type": "stream",
     "text": [
      "975.0\n",
      "1950.0\n"
     ]
    }
   ],
   "source": [
    "def si(p,r,t):\n",
    "    print(p*r*t/100)\n",
    "\n",
    "si(5000,6.5,3)\n",
    "si(10000,6.5,3)"
   ]
  },
  {
   "cell_type": "code",
   "execution_count": 20,
   "metadata": {},
   "outputs": [
    {
     "name": "stdout",
     "output_type": "stream",
     "text": [
      "even\n",
      "odd\n"
     ]
    }
   ],
   "source": [
    "def check(num):\n",
    "    if(num%2==0):\n",
    "        print(\"even\")\n",
    "    else:\n",
    "        print(\"odd\")\n",
    "\n",
    "check(12)\n",
    "check(13)"
   ]
  },
  {
   "cell_type": "code",
   "execution_count": 23,
   "metadata": {},
   "outputs": [
    {
     "name": "stdout",
     "output_type": "stream",
     "text": [
      "5.7\n",
      "5\n",
      "india\n",
      "5.5\n",
      "[2, 3, 3, 4]\n"
     ]
    },
    {
     "ename": "TypeError",
     "evalue": "can only concatenate str (not \"int\") to str",
     "output_type": "error",
     "traceback": [
      "\u001b[1;31m---------------------------------------------------------------------------\u001b[0m",
      "\u001b[1;31mTypeError\u001b[0m                                 Traceback (most recent call last)",
      "Cell \u001b[1;32mIn[23], line 8\u001b[0m\n\u001b[0;32m      6\u001b[0m add(\u001b[39m2\u001b[39m,\u001b[39m3.5\u001b[39m)\n\u001b[0;32m      7\u001b[0m add([\u001b[39m2\u001b[39m,\u001b[39m3\u001b[39m],[\u001b[39m3\u001b[39m,\u001b[39m4\u001b[39m])\n\u001b[1;32m----> 8\u001b[0m add(\u001b[39m\"\u001b[39;49m\u001b[39mhi\u001b[39;49m\u001b[39m\"\u001b[39;49m,\u001b[39m5\u001b[39;49m)\n",
      "Cell \u001b[1;32mIn[23], line 2\u001b[0m, in \u001b[0;36madd\u001b[1;34m(a, b)\u001b[0m\n\u001b[0;32m      1\u001b[0m \u001b[39mdef\u001b[39;00m \u001b[39madd\u001b[39m (a,b):\n\u001b[1;32m----> 2\u001b[0m     \u001b[39mprint\u001b[39m(a\u001b[39m+\u001b[39;49mb)\n",
      "\u001b[1;31mTypeError\u001b[0m: can only concatenate str (not \"int\") to str"
     ]
    }
   ],
   "source": [
    "def add (a,b):\n",
    "    print(a+b)\n",
    "add(2.5,3.2)\n",
    "add(2,3)\n",
    "add(\"in\",\"dia\")\n",
    "add(2,3.5)\n",
    "add([2,3],[3,4])\n",
    "add(\"hi\",5)   # error"
   ]
  },
  {
   "cell_type": "code",
   "execution_count": 25,
   "metadata": {},
   "outputs": [
    {
     "name": "stdout",
     "output_type": "stream",
     "text": [
      "10\n"
     ]
    }
   ],
   "source": [
    "x:float=10\n",
    "print(x)"
   ]
  },
  {
   "cell_type": "code",
   "execution_count": 26,
   "metadata": {},
   "outputs": [
    {
     "name": "stdout",
     "output_type": "stream",
     "text": [
      "a-52,sector-16,noida\n"
     ]
    }
   ],
   "source": [
    "adr: str=\"a-52,sector-16,noida\"\n",
    "print(adr)"
   ]
  },
  {
   "cell_type": "code",
   "execution_count": null,
   "metadata": {},
   "outputs": [],
   "source": [
    "# # type of variables based on scope:\n",
    "# -----------------------------------\n",
    "# localscope:- local vars & parameters\n",
    "\n",
    "# contextscope:-comprehension vars\n",
    "\n",
    "# global scope:- top level vars & all others"
   ]
  },
  {
   "cell_type": "code",
   "execution_count": 28,
   "metadata": {},
   "outputs": [
    {
     "name": "stdout",
     "output_type": "stream",
     "text": [
      "5\n"
     ]
    }
   ],
   "source": [
    "def add(a,b):\n",
    "    print(a+b) # a,b,c belongs to local scope cannot be \n",
    "               # used  outside function\n",
    "\n",
    "add(2,3)\n",
    "# print(a,b)  #error\n",
    "\n",
    "\n"
   ]
  },
  {
   "cell_type": "code",
   "execution_count": 29,
   "metadata": {},
   "outputs": [
    {
     "name": "stdout",
     "output_type": "stream",
     "text": [
      "[1, 4, 9, 16]\n",
      "4\n"
     ]
    }
   ],
   "source": [
    "x=[i*i for i in range(1,5)]  # i belongs to context scope and it limited\n",
    "                             #to comprehansion only\n",
    "print(x)\n",
    "print(i)  # error"
   ]
  },
  {
   "cell_type": "code",
   "execution_count": 30,
   "metadata": {},
   "outputs": [
    {
     "name": "stdout",
     "output_type": "stream",
     "text": [
      "10\n",
      "hi\n",
      "hi\n",
      "hi\n",
      "hi\n"
     ]
    }
   ],
   "source": [
    "z=10\n",
    "print(z)\n",
    "\n",
    "for k in range(1,5):\n",
    "    print(\"hi\")"
   ]
  },
  {
   "cell_type": "code",
   "execution_count": 31,
   "metadata": {},
   "outputs": [
    {
     "name": "stdout",
     "output_type": "stream",
     "text": [
      "india\n"
     ]
    }
   ],
   "source": [
    "if(5>4):\n",
    "    s=(\"india\")    # global function\n",
    "print(s)\n",
    "\n",
    "\n",
    "#  x,z,k,s belongs to global scope"
   ]
  },
  {
   "cell_type": "code",
   "execution_count": 32,
   "metadata": {},
   "outputs": [
    {
     "name": "stdout",
     "output_type": "stream",
     "text": [
      "35\n"
     ]
    },
    {
     "ename": "TypeError",
     "evalue": "add() missing 1 required positional argument: 'c'",
     "output_type": "error",
     "traceback": [
      "\u001b[1;31m---------------------------------------------------------------------------\u001b[0m",
      "\u001b[1;31mTypeError\u001b[0m                                 Traceback (most recent call last)",
      "Cell \u001b[1;32mIn[32], line 7\u001b[0m\n\u001b[0;32m      5\u001b[0m     \u001b[39mprint\u001b[39m(a\u001b[39m+\u001b[39mb\u001b[39m+\u001b[39mc)\n\u001b[0;32m      6\u001b[0m add(\u001b[39m10\u001b[39m,\u001b[39m5\u001b[39m,\u001b[39m20\u001b[39m)\n\u001b[1;32m----> 7\u001b[0m add(\u001b[39m2\u001b[39;49m,\u001b[39m3\u001b[39;49m)\n",
      "\u001b[1;31mTypeError\u001b[0m: add() missing 1 required positional argument: 'c'"
     ]
    }
   ],
   "source": [
    "def add(a,b):\n",
    "    print(a+b)\n",
    "\n",
    "def add(a,b,c):\n",
    "    print(a+b+c)\n",
    "add(10,5,20)\n",
    "add(2,3)  # error (latest function is exicute)"
   ]
  },
  {
   "cell_type": "code",
   "execution_count": null,
   "metadata": {},
   "outputs": [],
   "source": [
    "#  # type of arguments:-\n",
    "  # positional arguments\n",
    "  # keyword arguments\n",
    "  # default arguments"
   ]
  },
  {
   "cell_type": "code",
   "execution_count": null,
   "metadata": {},
   "outputs": [],
   "source": [
    "# types of parameters\n",
    "  # positional only parameters\n",
    "  # keyword only parameters\n",
    "  # positional or keyword parameters\n",
    "  # variable length positional only parameters\n",
    "  # variable length keywords only parameters\n"
   ]
  },
  {
   "cell_type": "code",
   "execution_count": null,
   "metadata": {},
   "outputs": [
    {
     "name": "stdout",
     "output_type": "stream",
     "text": [
      "10 20\n",
      "10 20\n",
      "10 20\n"
     ]
    },
    {
     "ename": "SyntaxError",
     "evalue": "keyword argument repeated: a (2196995555.py, line 7)",
     "output_type": "error",
     "traceback": [
      "\u001b[1;36m  Cell \u001b[1;32mIn[1], line 7\u001b[1;36m\u001b[0m\n\u001b[1;33m    show(a=10,b=20,a=30) # error: argument error\u001b[0m\n\u001b[1;37m                   ^\u001b[0m\n\u001b[1;31mSyntaxError\u001b[0m\u001b[1;31m:\u001b[0m keyword argument repeated: a\n"
     ]
    }
   ],
   "source": [
    "def show(a,b):\n",
    "    print(a,b)\n",
    "\n",
    "show(10,20)          # positional Arguments\n",
    "show(a=10,b=20)      # keyword arguments\n",
    "show(b=20,a=10)      # keyword arguments\n",
    "show(a=10,b=20,a=30) # error: argument error\n",
    "show(aa=10,c=20)     # unexpected keyword argument\n",
    "show(10,b=20)\n",
    "show(a=10,20)        # error: firt we need to pass positional argumnet \n",
    "                     # then key word argument\n",
    "show(10,b=20)        # error:  mltiple values for a\n",
    "show(b=10,20)"
   ]
  },
  {
   "cell_type": "code",
   "execution_count": 3,
   "metadata": {},
   "outputs": [
    {
     "name": "stdout",
     "output_type": "stream",
     "text": [
      "10 20\n",
      "10 2\n",
      "1 2\n"
     ]
    }
   ],
   "source": [
    "def show (a=1,b=2): # default argument\n",
    "    print(a,b)\n",
    "\n",
    "show(10,20)\n",
    "show(10)\n",
    "show()\n"
   ]
  },
  {
   "cell_type": "code",
   "execution_count": 5,
   "metadata": {},
   "outputs": [
    {
     "name": "stdout",
     "output_type": "stream",
     "text": [
      "[10]\n",
      "[10, 20]\n"
     ]
    }
   ],
   "source": [
    "def show(a,b=[]):\n",
    "    b.append(a)\n",
    "    print(b)\n",
    "\n",
    "show(10)\n",
    "show(20)"
   ]
  },
  {
   "cell_type": "code",
   "execution_count": null,
   "metadata": {},
   "outputs": [],
   "source": [
    "# memory allocation for non -default argument\n",
    "\n",
    "# for each function call memory is allocated and deleted\n",
    "#     after complting call.\n",
    "\n",
    "# memory allocation for default argument with \n",
    "# immutable type\n",
    "\n",
    "# for each  function call memory is allocated and deleted \n",
    "# after compieting call\n",
    "\n",
    "# memory allocation for default argument with \n",
    "# mmutable type:\n",
    "\n",
    "# memory is allocated only  for first call and deleted \n",
    "# after program completetion.\n",
    "\n",
    "# i.e for subsequent calls same memoryis used\n"
   ]
  },
  {
   "cell_type": "code",
   "execution_count": 6,
   "metadata": {},
   "outputs": [
    {
     "name": "stdout",
     "output_type": "stream",
     "text": [
      "10 20\n"
     ]
    }
   ],
   "source": [
    "def show (a,b,/): #a,b positional only\n",
    "    print(a,b)\n",
    "\n",
    "show(10,20)\n",
    " # show(a=0,b=20)  # error"
   ]
  },
  {
   "cell_type": "code",
   "execution_count": 7,
   "metadata": {},
   "outputs": [
    {
     "name": "stdout",
     "output_type": "stream",
     "text": [
      "10 20\n"
     ]
    },
    {
     "ename": "TypeError",
     "evalue": "show() takes 0 positional arguments but 2 were given",
     "output_type": "error",
     "traceback": [
      "\u001b[1;31m---------------------------------------------------------------------------\u001b[0m",
      "\u001b[1;31mTypeError\u001b[0m                                 Traceback (most recent call last)",
      "Cell \u001b[1;32mIn[7], line 5\u001b[0m\n\u001b[0;32m      2\u001b[0m     \u001b[39mprint\u001b[39m(a,b)\n\u001b[0;32m      4\u001b[0m show(a\u001b[39m=\u001b[39m\u001b[39m10\u001b[39m,b\u001b[39m=\u001b[39m\u001b[39m20\u001b[39m)\n\u001b[1;32m----> 5\u001b[0m show(\u001b[39m10\u001b[39;49m,\u001b[39m20\u001b[39;49m)\n",
      "\u001b[1;31mTypeError\u001b[0m: show() takes 0 positional arguments but 2 were given"
     ]
    }
   ],
   "source": [
    "def show(*,a,b):  # a,b keyword only\n",
    "    print(a,b)\n",
    "\n",
    "show(a=10,b=20)\n",
    "show(10,20)"
   ]
  },
  {
   "cell_type": "code",
   "execution_count": 9,
   "metadata": {},
   "outputs": [
    {
     "name": "stdout",
     "output_type": "stream",
     "text": [
      "1 2 3 4 5 6\n"
     ]
    }
   ],
   "source": [
    "def show(a,b,/,c,d,*,e,f):  #a,b= positional only\n",
    "    print(a,b,c,d,e,f)      #e,f= keyword only \n",
    "                            #c,d positional or keyword\n",
    "show(1,2,3,d=4,e=5,f=6)\n",
    "# show(1,2,c=3,4,e=5,f=6) # error   "
   ]
  },
  {
   "cell_type": "code",
   "execution_count": null,
   "metadata": {},
   "outputs": [],
   "source": [
    "def print(*,sep=\" \",end=\"/n\"):\n",
    "    "
   ]
  },
  {
   "cell_type": "code",
   "execution_count": 10,
   "metadata": {},
   "outputs": [
    {
     "name": "stdout",
     "output_type": "stream",
     "text": [
      "(10, 20)\n",
      "(10, 20, 30, 40)\n",
      "()\n"
     ]
    }
   ],
   "source": [
    "def show(*a): # variablelength (0-n) positional argumnet\n",
    "     print(a)         # as tuple\n",
    "\n",
    "show(10,20)\n",
    "show(10,20,30,40)\n",
    "show()"
   ]
  },
  {
   "cell_type": "code",
   "execution_count": 13,
   "metadata": {},
   "outputs": [
    {
     "name": "stdout",
     "output_type": "stream",
     "text": [
      "30\n"
     ]
    },
    {
     "ename": "TypeError",
     "evalue": "add() takes 2 positional arguments but 3 were given",
     "output_type": "error",
     "traceback": [
      "\u001b[1;31m---------------------------------------------------------------------------\u001b[0m",
      "\u001b[1;31mTypeError\u001b[0m                                 Traceback (most recent call last)",
      "Cell \u001b[1;32mIn[13], line 5\u001b[0m\n\u001b[0;32m      2\u001b[0m     \u001b[39mprint\u001b[39m(a\u001b[39m+\u001b[39mb)\n\u001b[0;32m      4\u001b[0m add(\u001b[39m10\u001b[39m,\u001b[39m20\u001b[39m)\n\u001b[1;32m----> 5\u001b[0m add(\u001b[39m10\u001b[39;49m,\u001b[39m20\u001b[39;49m,\u001b[39m30\u001b[39;49m)\n",
      "\u001b[1;31mTypeError\u001b[0m: add() takes 2 positional arguments but 3 were given"
     ]
    }
   ],
   "source": [
    "def add(a,b):\n",
    "    print(a+b)\n",
    "\n",
    "add(10,20)\n",
    "add(10,20,30)"
   ]
  },
  {
   "cell_type": "code",
   "execution_count": 14,
   "metadata": {},
   "outputs": [
    {
     "ename": "TypeError",
     "evalue": "add() missing 1 required positional argument: 'c'",
     "output_type": "error",
     "traceback": [
      "\u001b[1;31m---------------------------------------------------------------------------\u001b[0m",
      "\u001b[1;31mTypeError\u001b[0m                                 Traceback (most recent call last)",
      "Cell \u001b[1;32mIn[14], line 4\u001b[0m\n\u001b[0;32m      1\u001b[0m \u001b[39mdef\u001b[39;00m \u001b[39madd\u001b[39m(a,b,c):\n\u001b[0;32m      2\u001b[0m     \u001b[39mprint\u001b[39m(a\u001b[39m+\u001b[39mb)\n\u001b[1;32m----> 4\u001b[0m add(\u001b[39m10\u001b[39;49m,\u001b[39m20\u001b[39;49m)\n\u001b[0;32m      5\u001b[0m add(\u001b[39m10\u001b[39m,\u001b[39m20\u001b[39m,\u001b[39m30\u001b[39m)\n",
      "\u001b[1;31mTypeError\u001b[0m: add() missing 1 required positional argument: 'c'"
     ]
    }
   ],
   "source": [
    "def add(a,b,c):\n",
    "    print(a+b)\n",
    "\n",
    "add(10,20)\n",
    "add(10,20,30)"
   ]
  },
  {
   "cell_type": "code",
   "execution_count": 16,
   "metadata": {},
   "outputs": [
    {
     "name": "stdout",
     "output_type": "stream",
     "text": [
      "30\n",
      "60\n",
      "100\n"
     ]
    }
   ],
   "source": [
    "def add(*a):\n",
    "    print(sum(a))\n",
    "\n",
    "add(10,20)\n",
    "add(10,20,30)\n",
    "add(10,20,30,40)"
   ]
  },
  {
   "cell_type": "code",
   "execution_count": 18,
   "metadata": {},
   "outputs": [
    {
     "name": "stdout",
     "output_type": "stream",
     "text": [
      "10 20\n",
      "10 50\n",
      "10 90\n",
      "10 0\n"
     ]
    }
   ],
   "source": [
    "def add(a,*b):\n",
    "    print(a,sum(b))\n",
    "\n",
    "add(10,20)\n",
    "add(10,20,30)\n",
    "add(10,20,30,40)\n",
    "add(10)"
   ]
  },
  {
   "cell_type": "code",
   "execution_count": 4,
   "metadata": {},
   "outputs": [
    {
     "ename": "TypeError",
     "evalue": "add() missing 1 required keyword-only argument: 'b'",
     "output_type": "error",
     "traceback": [
      "\u001b[1;31m---------------------------------------------------------------------------\u001b[0m",
      "\u001b[1;31mTypeError\u001b[0m                                 Traceback (most recent call last)",
      "Cell \u001b[1;32mIn[4], line 4\u001b[0m\n\u001b[0;32m      1\u001b[0m \u001b[39mdef\u001b[39;00m \u001b[39madd\u001b[39m(\u001b[39m*\u001b[39ma,b):\n\u001b[0;32m      2\u001b[0m     \u001b[39mprint\u001b[39m(\u001b[39msum\u001b[39m(a),b)\n\u001b[1;32m----> 4\u001b[0m add(\u001b[39m10\u001b[39;49m,\u001b[39m20\u001b[39;49m)\n\u001b[0;32m      5\u001b[0m add(\u001b[39m10\u001b[39m,\u001b[39m20\u001b[39m,\u001b[39m30\u001b[39m)\n\u001b[0;32m      6\u001b[0m add(\u001b[39m10\u001b[39m,\u001b[39m20\u001b[39m,\u001b[39m30\u001b[39m,\u001b[39m40\u001b[39m)\n",
      "\u001b[1;31mTypeError\u001b[0m: add() missing 1 required keyword-only argument: 'b'"
     ]
    }
   ],
   "source": [
    "def add(*a,b):\n",
    "    print(sum(a),b)\n",
    "\n",
    "add(10,20)\n",
    "add(10,20,30)\n",
    "add(10,20,30,40)\n",
    "add(10)"
   ]
  },
  {
   "cell_type": "code",
   "execution_count": 5,
   "metadata": {},
   "outputs": [
    {
     "name": "stdout",
     "output_type": "stream",
     "text": [
      "10 20\n",
      "30 30\n",
      "60 40\n",
      "0 10\n"
     ]
    }
   ],
   "source": [
    "def add(*a,b):\n",
    "    print(sum(a),b)\n",
    "\n",
    "add(10,b=20)\n",
    "add(10,20,b=30)\n",
    "add(10,20,30,b=40)\n",
    "add(b=10)"
   ]
  },
  {
   "cell_type": "code",
   "execution_count": 6,
   "metadata": {},
   "outputs": [
    {
     "ename": "SyntaxError",
     "evalue": "* argument may appear only once (2823012142.py, line 2)",
     "output_type": "error",
     "traceback": [
      "\u001b[1;36m  Cell \u001b[1;32mIn[6], line 2\u001b[1;36m\u001b[0m\n\u001b[1;33m    def add(*a,*b):\u001b[0m\n\u001b[1;37m               ^\u001b[0m\n\u001b[1;31mSyntaxError\u001b[0m\u001b[1;31m:\u001b[0m * argument may appear only once\n"
     ]
    }
   ],
   "source": [
    "# variable length (o-n) positional argument\n",
    "def add(*a,*b):   # error\n",
    "    print(a,b)\n",
    "add(10,20,30,40)\n"
   ]
  },
  {
   "cell_type": "code",
   "execution_count": 7,
   "metadata": {},
   "outputs": [
    {
     "name": "stdout",
     "output_type": "stream",
     "text": [
      "{'i': 10, 'j': 20}\n",
      "{'roll': 101, 'name': 'sonu', 'age': 20}\n",
      "{}\n"
     ]
    }
   ],
   "source": [
    "# variable length(o-n) keyword argument\n",
    "\n",
    "def show(**a):\n",
    "    print(a)\n",
    "\n",
    "show(i=10,j=20)\n",
    "show(roll=101,name=\"sonu\",age=20)\n",
    "show()"
   ]
  },
  {
   "cell_type": "code",
   "execution_count": null,
   "metadata": {},
   "outputs": [],
   "source": [
    "# project bsed use cases\n",
    "# read_excel(path=\"..\",sheet=\"..\",nrows=100,ncols=10)\n",
    "# connect(ip=\"192.168.1.43\",port=1234,user='', pass='')"
   ]
  },
  {
   "cell_type": "code",
   "execution_count": 8,
   "metadata": {},
   "outputs": [
    {
     "ename": "NameError",
     "evalue": "name 'c' is not defined",
     "output_type": "error",
     "traceback": [
      "\u001b[1;31m---------------------------------------------------------------------------\u001b[0m",
      "\u001b[1;31mNameError\u001b[0m                                 Traceback (most recent call last)",
      "Cell \u001b[1;32mIn[8], line 5\u001b[0m\n\u001b[0;32m      2\u001b[0m     c\u001b[39m=\u001b[39ma\u001b[39m*\u001b[39mb\n\u001b[0;32m      4\u001b[0m mul(\u001b[39m3\u001b[39m,\u001b[39m4\u001b[39m)\n\u001b[1;32m----> 5\u001b[0m \u001b[39mprint\u001b[39m(c)\n",
      "\u001b[1;31mNameError\u001b[0m: name 'c' is not defined"
     ]
    }
   ],
   "source": [
    "def mul(a,b):\n",
    "    c=a*b\n",
    "\n",
    "mul(3,4)\n",
    "print(c)"
   ]
  },
  {
   "cell_type": "code",
   "execution_count": 10,
   "metadata": {},
   "outputs": [
    {
     "name": "stdout",
     "output_type": "stream",
     "text": [
      "12\n"
     ]
    }
   ],
   "source": [
    "def mul(a,b):\n",
    "    c=a*b\n",
    "    return c\n",
    "\n",
    "r=mul(3,4)\n",
    "print(r)"
   ]
  },
  {
   "cell_type": "code",
   "execution_count": 15,
   "metadata": {},
   "outputs": [
    {
     "name": "stdout",
     "output_type": "stream",
     "text": [
      "None\n"
     ]
    }
   ],
   "source": [
    "def mul(a,b):        # default return is none\n",
    "    c=a*b\n",
    "    return\n",
    "print(mul(4,5))"
   ]
  },
  {
   "cell_type": "code",
   "execution_count": 11,
   "metadata": {},
   "outputs": [
    {
     "name": "stdout",
     "output_type": "stream",
     "text": [
      "20\n"
     ]
    }
   ],
   "source": [
    "print(mul(4,5))"
   ]
  },
  {
   "cell_type": "code",
   "execution_count": 13,
   "metadata": {},
   "outputs": [
    {
     "name": "stdout",
     "output_type": "stream",
     "text": [
      "18\n"
     ]
    }
   ],
   "source": [
    "x=mul(2,3)+mul(3,4)\n",
    "print(x)"
   ]
  },
  {
   "cell_type": "code",
   "execution_count": 16,
   "metadata": {},
   "outputs": [
    {
     "name": "stdout",
     "output_type": "stream",
     "text": [
      "20\n"
     ]
    }
   ],
   "source": [
    "def arthematics(a,b):\n",
    "    c=a*b \n",
    "    d=a*b\n",
    "    e=a/b\n",
    "    return c\n",
    "    return d\n",
    "    return e\n",
    "\n",
    "print(arthematics(10,2))\n",
    "    \n"
   ]
  },
  {
   "cell_type": "code",
   "execution_count": 17,
   "metadata": {},
   "outputs": [
    {
     "name": "stdout",
     "output_type": "stream",
     "text": [
      "(20, 20, 5.0)\n"
     ]
    }
   ],
   "source": [
    "def arthematics(a,b):\n",
    "    c=a*b \n",
    "    d=a*b\n",
    "    e=a/b\n",
    "    return c,d,e      # tuple\n",
    "    \n",
    "print(arthematics(10,2))\n",
    "    \n"
   ]
  },
  {
   "cell_type": "code",
   "execution_count": 18,
   "metadata": {},
   "outputs": [
    {
     "name": "stdout",
     "output_type": "stream",
     "text": [
      "[20, 20, 5.0]\n"
     ]
    }
   ],
   "source": [
    "def arthematics(a,b):\n",
    "    c=a*b \n",
    "    d=a*b\n",
    "    e=a/b\n",
    "    return [c,d,e]    # list\n",
    "    \n",
    "print(arthematics(10,2))\n",
    "    \n"
   ]
  },
  {
   "cell_type": "code",
   "execution_count": 20,
   "metadata": {},
   "outputs": [
    {
     "name": "stdout",
     "output_type": "stream",
     "text": [
      "{'add': 20, 'mul': 20, 'div': 5.0}\n"
     ]
    }
   ],
   "source": [
    "def arthematics(a,b):\n",
    "    c=a*b \n",
    "    d=a*b\n",
    "    e=a/b\n",
    "    return {\"add\":c,\"mul\":d,\"div\":e}      # dict\n",
    "    \n",
    "print(arthematics(10,2))\n",
    "    \n"
   ]
  },
  {
   "cell_type": "code",
   "execution_count": 21,
   "metadata": {},
   "outputs": [
    {
     "ename": "NameError",
     "evalue": "name 'fun2' is not defined",
     "output_type": "error",
     "traceback": [
      "\u001b[1;31m---------------------------------------------------------------------------\u001b[0m",
      "\u001b[1;31mNameError\u001b[0m                                 Traceback (most recent call last)",
      "Cell \u001b[1;32mIn[21], line 6\u001b[0m\n\u001b[0;32m      4\u001b[0m     \u001b[39mreturn\u001b[39;00m \n\u001b[0;32m      5\u001b[0m     \u001b[39m20\u001b[39m\n\u001b[1;32m----> 6\u001b[0m x\u001b[39m=\u001b[39m(fun1(fun2()))\n",
      "\u001b[1;31mNameError\u001b[0m: name 'fun2' is not defined"
     ]
    }
   ],
   "source": [
    "def fun1():\n",
    "    return 10\n",
    "def fun():\n",
    "    return \n",
    "    20\n",
    "x=(fun1(fun2()))"
   ]
  },
  {
   "cell_type": "code",
   "execution_count": 22,
   "metadata": {},
   "outputs": [
    {
     "ename": "NameError",
     "evalue": "name 'fun2' is not defined",
     "output_type": "error",
     "traceback": [
      "\u001b[1;31m---------------------------------------------------------------------------\u001b[0m",
      "\u001b[1;31mNameError\u001b[0m                                 Traceback (most recent call last)",
      "Cell \u001b[1;32mIn[22], line 6\u001b[0m\n\u001b[0;32m      4\u001b[0m     \u001b[39mreturn\u001b[39;00m \n\u001b[0;32m      5\u001b[0m     \u001b[39m20\u001b[39m\n\u001b[1;32m----> 6\u001b[0m x\u001b[39m=\u001b[39m(fun1(fun2()))\n\u001b[0;32m      7\u001b[0m \u001b[39mprint\u001b[39m(x)\n",
      "\u001b[1;31mNameError\u001b[0m: name 'fun2' is not defined"
     ]
    }
   ],
   "source": [
    "def fun1(a):\n",
    "    return a**2\n",
    "def fun():\n",
    "    return \n",
    "    20\n",
    "x=(fun1(fun2()))\n",
    "print(x)"
   ]
  },
  {
   "cell_type": "code",
   "execution_count": null,
   "metadata": {},
   "outputs": [],
   "source": []
  }
 ],
 "metadata": {
  "kernelspec": {
   "display_name": "Python 3",
   "language": "python",
   "name": "python3"
  },
  "language_info": {
   "codemirror_mode": {
    "name": "ipython",
    "version": 3
   },
   "file_extension": ".py",
   "mimetype": "text/x-python",
   "name": "python",
   "nbconvert_exporter": "python",
   "pygments_lexer": "ipython3",
   "version": "3.11.4"
  },
  "orig_nbformat": 4
 },
 "nbformat": 4,
 "nbformat_minor": 2
}
