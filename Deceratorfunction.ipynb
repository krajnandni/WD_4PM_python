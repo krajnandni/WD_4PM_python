{
 "cells": [
  {
   "cell_type": "code",
   "execution_count": 12,
   "metadata": {},
   "outputs": [
    {
     "name": "stdout",
     "output_type": "stream",
     "text": [
      "this is login\n"
     ]
    }
   ],
   "source": [
    "def login():\n",
    "    print(\"this is login\")\n",
    "\n",
    "login()"
   ]
  },
  {
   "cell_type": "code",
   "execution_count": null,
   "metadata": {},
   "outputs": [],
   "source": [
    "# Decorator function\n",
    "\n",
    "# it is a function extends functionality of other function \n",
    "#  without modifing it's code. \n",
    "\n",
    "# according to concept,it is just a design to define a function\n",
    "    # take argument as function\n",
    "    # define a nested  function\n",
    "    # call argumented function\n",
    "    # add new code\n",
    "    # returns nessted function"
   ]
  },
  {
   "cell_type": "code",
   "execution_count": 13,
   "metadata": {},
   "outputs": [
    {
     "name": "stdout",
     "output_type": "stream",
     "text": [
      "this is login\n",
      "Mon Aug 21 12:20:51 2023\n"
     ]
    }
   ],
   "source": [
    "# Decorator function\n",
    "def datedecorator(fun):\n",
    "    def adddate():\n",
    "        fun()\n",
    "        import time\n",
    "        print(time.ctime())\n",
    "    return adddate\n",
    "\n",
    "login1=datedecorator(login)\n",
    "login1()"
   ]
  },
  {
   "cell_type": "code",
   "execution_count": 14,
   "metadata": {},
   "outputs": [
    {
     "name": "stdout",
     "output_type": "stream",
     "text": [
      "this is login\n",
      "Mon Aug 21 12:21:01 2023\n"
     ]
    }
   ],
   "source": [
    "login1=datedecorator(login)\n",
    "login1()"
   ]
  },
  {
   "cell_type": "code",
   "execution_count": 1,
   "metadata": {},
   "outputs": [
    {
     "name": "stdout",
     "output_type": "stream",
     "text": [
      "this is register\n"
     ]
    }
   ],
   "source": [
    "def register():\n",
    "    print(\"this is register\")\n",
    "register()"
   ]
  },
  {
   "cell_type": "code",
   "execution_count": 15,
   "metadata": {},
   "outputs": [
    {
     "name": "stdout",
     "output_type": "stream",
     "text": [
      "this is register\n",
      "Mon Aug 21 12:21:10 2023\n"
     ]
    }
   ],
   "source": [
    "register=datedecorator(register)\n",
    "register()\n",
    "\n"
   ]
  },
  {
   "cell_type": "code",
   "execution_count": 16,
   "metadata": {},
   "outputs": [
    {
     "name": "stdout",
     "output_type": "stream",
     "text": [
      "this is upload\n",
      "Mon Aug 21 12:21:17 2023\n"
     ]
    }
   ],
   "source": [
    "@datedecorator\n",
    "def upload():\n",
    "    print(\"this is upload\")\n",
    "upload()"
   ]
  },
  {
   "cell_type": "code",
   "execution_count": null,
   "metadata": {},
   "outputs": [],
   "source": []
  }
 ],
 "metadata": {
  "kernelspec": {
   "display_name": "Python 3",
   "language": "python",
   "name": "python3"
  },
  "language_info": {
   "codemirror_mode": {
    "name": "ipython",
    "version": 3
   },
   "file_extension": ".py",
   "mimetype": "text/x-python",
   "name": "python",
   "nbconvert_exporter": "python",
   "pygments_lexer": "ipython3",
   "version": "3.11.4"
  },
  "orig_nbformat": 4
 },
 "nbformat": 4,
 "nbformat_minor": 2
}
